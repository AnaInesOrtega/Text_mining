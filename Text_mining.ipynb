{
 "cells": [
  {
   "cell_type": "markdown",
   "id": "c255678c",
   "metadata": {},
   "source": [
    "# Tasca M9 T01\n",
    "\n",
    "\n",
    "## Exercici 1\n",
    "Agafa un text en anglès que vulguis, i calcula'n la freqüència de les paraules.\n",
    "\n",
    "\n",
    "- Se elegirá un texto que habla sobre el comportamiento social de los delfines y se calculará la frecuencia de las palabras. \n",
    "- Se importarán las librerias necesarias: NLTK consta de los algoritmos más comunes, como la tokenización, el etiquetado de partes del discurso, la derivación, el análisis de sentimientos, la segmentación de temas y el reconocimiento de entidades nombradas. NLTK ayuda a la computadora a analizar, preprocesar y comprender el texto escrito."
   ]
  },
  {
   "cell_type": "code",
   "execution_count": 1,
   "id": "bba6267d",
   "metadata": {},
   "outputs": [],
   "source": [
    "%%capture\n",
    "!pip install nltk"
   ]
  },
  {
   "cell_type": "code",
   "execution_count": 2,
   "id": "b4618110",
   "metadata": {},
   "outputs": [],
   "source": [
    "# importing libraries \n",
    "import nltk\n",
    "from nltk.tokenize import word_tokenize\n",
    "from nltk.tokenize import sent_tokenize\n",
    "\n",
    "import pandas as pd\n",
    "import math\n",
    "import matplotlib.pyplot as plt\n",
    "%matplotlib inline\n",
    "import numpy as np\n",
    "import seaborn as sns\n",
    "import warnings\n",
    "warnings.filterwarnings('ignore')"
   ]
  },
  {
   "cell_type": "code",
   "execution_count": 3,
   "id": "c01c45cc",
   "metadata": {},
   "outputs": [],
   "source": [
    "text = \"\"\"Dolphins are often regarded as one of Earth's most intelligent animals. They are social creatures,\n",
    "living in pods of up to a dozen individuals. In places with a high abundance of food, pods can merge temporarily, \n",
    "forming a superpod; such groupings may exceed 1,000 dolphins. They communicate using a variety of clicks, \n",
    "whistle-like sounds and other vocalizations.\n",
    "Membership in pods is not rigid; interchange is common. Dolphins can, however, establish strong social bonds; \n",
    "they will stay with injured or ill individuals, even helping them to breathe by bringing them to the surface if needed. \n",
    "This altruism does not appear to be limited to their own species. The dolphin Moko in New Zealand has been observed \n",
    "guiding a female Pygmy Sperm Whale together with her calf out of shallow water where they had stranded several times. \n",
    "They have also been seen protecting swimmers from sharks by swimming circles around the swimmers or charging the sharks \n",
    "to make them go away.\n",
    "Dolphins also display culture, something long believed to be unique to humans. \n",
    "In May 2005, a discovery in Australia found Indo-Pacific bottlenose dolphins (Tursiops aduncus) teaching their young \n",
    "to use tools. They cover their snouts with sponges to protect them while foraging (looking or searching for \n",
    "food or provisions). Using sponges as mouth protection as well as other transmitted behavior proves dolphins' intelligence. \n",
    "This knowledge is mostly transferred by mothers to daughters.\"\"\""
   ]
  },
  {
   "cell_type": "markdown",
   "id": "5f33b40f",
   "metadata": {},
   "source": [
    "**Tokenización**\n",
    "\n",
    "La tokenización es el primer paso en el análisis de texto. El proceso de dividir un párrafo de texto en fragmentos más pequeños, como palabras o oraciones, se denomina tokenización. El token es una entidad única que es un bloque de construcción para una oración o un párrafo."
   ]
  },
  {
   "cell_type": "code",
   "execution_count": 4,
   "id": "eebd694a",
   "metadata": {},
   "outputs": [
    {
     "name": "stdout",
     "output_type": "stream",
     "text": [
      "[\"Dolphins are often regarded as one of Earth's most intelligent animals.\", 'They are social creatures,\\nliving in pods of up to a dozen individuals.', 'In places with a high abundance of food, pods can merge temporarily, \\nforming a superpod; such groupings may exceed 1,000 dolphins.', 'They communicate using a variety of clicks, \\nwhistle-like sounds and other vocalizations.', 'Membership in pods is not rigid; interchange is common.', 'Dolphins can, however, establish strong social bonds; \\nthey will stay with injured or ill individuals, even helping them to breathe by bringing them to the surface if needed.', 'This altruism does not appear to be limited to their own species.', 'The dolphin Moko in New Zealand has been observed \\nguiding a female Pygmy Sperm Whale together with her calf out of shallow water where they had stranded several times.', 'They have also been seen protecting swimmers from sharks by swimming circles around the swimmers or charging the sharks \\nto make them go away.', 'Dolphins also display culture, something long believed to be unique to humans.', 'In May 2005, a discovery in Australia found Indo-Pacific bottlenose dolphins (Tursiops aduncus) teaching their young \\nto use tools.', 'They cover their snouts with sponges to protect them while foraging (looking or searching for \\nfood or provisions).', \"Using sponges as mouth protection as well as other transmitted behavior proves dolphins' intelligence.\", 'This knowledge is mostly transferred by mothers to daughters.']\n"
     ]
    }
   ],
   "source": [
    "tokenized_text = sent_tokenize(text)\n",
    "print(tokenized_text)"
   ]
  },
  {
   "cell_type": "markdown",
   "id": "54325b51",
   "metadata": {},
   "source": [
    "- Se puede observar que el texto elegido es tokenizado en oraciones.\n",
    "\n",
    "\n",
    "\n",
    "**Tokenización de palabras**\n",
    "\n",
    "- El tokenizador de palabras divide el párrafo de texto en palabras, como podrá observarse a continuación. "
   ]
  },
  {
   "cell_type": "code",
   "execution_count": 5,
   "id": "000fc3c3",
   "metadata": {},
   "outputs": [
    {
     "name": "stdout",
     "output_type": "stream",
     "text": [
      "['Dolphins', 'are', 'often', 'regarded', 'as', 'one', 'of', 'Earth', \"'s\", 'most', 'intelligent', 'animals', '.', 'They', 'are', 'social', 'creatures', ',', 'living', 'in', 'pods', 'of', 'up', 'to', 'a', 'dozen', 'individuals', '.', 'In', 'places', 'with', 'a', 'high', 'abundance', 'of', 'food', ',', 'pods', 'can', 'merge', 'temporarily', ',', 'forming', 'a', 'superpod', ';', 'such', 'groupings', 'may', 'exceed', '1,000', 'dolphins', '.', 'They', 'communicate', 'using', 'a', 'variety', 'of', 'clicks', ',', 'whistle-like', 'sounds', 'and', 'other', 'vocalizations', '.', 'Membership', 'in', 'pods', 'is', 'not', 'rigid', ';', 'interchange', 'is', 'common', '.', 'Dolphins', 'can', ',', 'however', ',', 'establish', 'strong', 'social', 'bonds', ';', 'they', 'will', 'stay', 'with', 'injured', 'or', 'ill', 'individuals', ',', 'even', 'helping', 'them', 'to', 'breathe', 'by', 'bringing', 'them', 'to', 'the', 'surface', 'if', 'needed', '.', 'This', 'altruism', 'does', 'not', 'appear', 'to', 'be', 'limited', 'to', 'their', 'own', 'species', '.', 'The', 'dolphin', 'Moko', 'in', 'New', 'Zealand', 'has', 'been', 'observed', 'guiding', 'a', 'female', 'Pygmy', 'Sperm', 'Whale', 'together', 'with', 'her', 'calf', 'out', 'of', 'shallow', 'water', 'where', 'they', 'had', 'stranded', 'several', 'times', '.', 'They', 'have', 'also', 'been', 'seen', 'protecting', 'swimmers', 'from', 'sharks', 'by', 'swimming', 'circles', 'around', 'the', 'swimmers', 'or', 'charging', 'the', 'sharks', 'to', 'make', 'them', 'go', 'away', '.', 'Dolphins', 'also', 'display', 'culture', ',', 'something', 'long', 'believed', 'to', 'be', 'unique', 'to', 'humans', '.', 'In', 'May', '2005', ',', 'a', 'discovery', 'in', 'Australia', 'found', 'Indo-Pacific', 'bottlenose', 'dolphins', '(', 'Tursiops', 'aduncus', ')', 'teaching', 'their', 'young', 'to', 'use', 'tools', '.', 'They', 'cover', 'their', 'snouts', 'with', 'sponges', 'to', 'protect', 'them', 'while', 'foraging', '(', 'looking', 'or', 'searching', 'for', 'food', 'or', 'provisions', ')', '.', 'Using', 'sponges', 'as', 'mouth', 'protection', 'as', 'well', 'as', 'other', 'transmitted', 'behavior', 'proves', 'dolphins', \"'\", 'intelligence', '.', 'This', 'knowledge', 'is', 'mostly', 'transferred', 'by', 'mothers', 'to', 'daughters', '.']\n"
     ]
    }
   ],
   "source": [
    "tokenized_word = word_tokenize(text)\n",
    "print(tokenized_word)"
   ]
  },
  {
   "cell_type": "markdown",
   "id": "e90a09ba",
   "metadata": {},
   "source": [
    "**Distribución de frecuencias**"
   ]
  },
  {
   "cell_type": "code",
   "execution_count": 6,
   "id": "a3a72e4f",
   "metadata": {},
   "outputs": [
    {
     "name": "stdout",
     "output_type": "stream",
     "text": [
      "<FreqDist with 171 samples and 263 outcomes>\n"
     ]
    }
   ],
   "source": [
    "from nltk.probability import FreqDist\n",
    "\n",
    "fdist = FreqDist(tokenized_word)\n",
    "print(fdist)"
   ]
  },
  {
   "cell_type": "markdown",
   "id": "ccb3206f",
   "metadata": {},
   "source": [
    "- Se pueden observar 171 muestras y 263 resultados. \n",
    "- También se pueden observar las palabras que más se repiten en orden descendente."
   ]
  },
  {
   "cell_type": "code",
   "execution_count": 7,
   "id": "444ac5b6",
   "metadata": {
    "scrolled": true
   },
   "outputs": [
    {
     "data": {
      "text/plain": [
       "[('.', 14),\n",
       " ('to', 11),\n",
       " (',', 9),\n",
       " ('a', 6),\n",
       " ('of', 5),\n",
       " ('as', 4),\n",
       " ('They', 4),\n",
       " ('in', 4),\n",
       " ('with', 4),\n",
       " ('or', 4)]"
      ]
     },
     "execution_count": 7,
     "metadata": {},
     "output_type": "execute_result"
    }
   ],
   "source": [
    "fdist.most_common(10)"
   ]
  },
  {
   "cell_type": "code",
   "execution_count": 8,
   "id": "59742c6f",
   "metadata": {},
   "outputs": [
    {
     "name": "stdout",
     "output_type": "stream",
     "text": [
      "   .   to    ,    a   of   as They   in with   or \n",
      "  14   11    9    6    5    4    4    4    4    4 \n"
     ]
    }
   ],
   "source": [
    "# show the same but in another format \n",
    "fdist.tabulate(10)"
   ]
  },
  {
   "cell_type": "markdown",
   "id": "e02e7423",
   "metadata": {},
   "source": [
    "- Se realizará un gráfico con las 30 palabras más comunes:"
   ]
  },
  {
   "cell_type": "code",
   "execution_count": 9,
   "id": "a38a3910",
   "metadata": {},
   "outputs": [
    {
     "data": {
      "image/png": "[encoded data removed]",
      "text/plain": [
       "<Figure size 432x288 with 1 Axes>"
      ]
     },
     "metadata": {
      "needs_background": "light"
     },
     "output_type": "display_data"
    }
   ],
   "source": [
    "# Frequency Distribution Plot\n",
    "\n",
    "fdist.plot(30, cumulative=False)\n",
    "plt.show()"
   ]
  },
  {
   "cell_type": "markdown",
   "id": "bde90a73",
   "metadata": {},
   "source": [
    "- En este gráfico se observa la frecuencia de palabras, es decir aquellas que más se repiten en el texto.\n",
    "\n",
    "- Se puede observar que el texto contiene muchos signos de puntuación, por lo que se procederá a eliminarlos, conservando solo las palabras.\n",
    "- También ser observan gran cantidad de stopwords. "
   ]
  },
  {
   "cell_type": "code",
   "execution_count": 10,
   "id": "1a4f797c",
   "metadata": {},
   "outputs": [
    {
     "name": "stdout",
     "output_type": "stream",
     "text": [
      "['Dolphins', 'are', 'often', 'regarded', 'as', 'one', 'of', 'Earth', 'most', 'intelligent', 'animals', 'They', 'are', 'social', 'creatures', 'living', 'in', 'pods', 'of', 'up', 'to', 'a', 'dozen', 'individuals', 'In', 'places', 'with', 'a', 'high', 'abundance', 'of', 'food', 'pods', 'can', 'merge', 'temporarily', 'forming', 'a', 'superpod', 'such', 'groupings', 'may', 'exceed', 'dolphins', 'They', 'communicate', 'using', 'a', 'variety', 'of', 'clicks', 'sounds', 'and', 'other', 'vocalizations', 'Membership', 'in', 'pods', 'is', 'not', 'rigid', 'interchange', 'is', 'common', 'Dolphins', 'can', 'however', 'establish', 'strong', 'social', 'bonds', 'they', 'will', 'stay', 'with', 'injured', 'or', 'ill', 'individuals', 'even', 'helping', 'them', 'to', 'breathe', 'by', 'bringing', 'them', 'to', 'the', 'surface', 'if', 'needed', 'This', 'altruism', 'does', 'not', 'appear', 'to', 'be', 'limited', 'to', 'their', 'own', 'species', 'The', 'dolphin', 'Moko', 'in', 'New', 'Zealand', 'has', 'been', 'observed', 'guiding', 'a', 'female', 'Pygmy', 'Sperm', 'Whale', 'together', 'with', 'her', 'calf', 'out', 'of', 'shallow', 'water', 'where', 'they', 'had', 'stranded', 'several', 'times', 'They', 'have', 'also', 'been', 'seen', 'protecting', 'swimmers', 'from', 'sharks', 'by', 'swimming', 'circles', 'around', 'the', 'swimmers', 'or', 'charging', 'the', 'sharks', 'to', 'make', 'them', 'go', 'away', 'Dolphins', 'also', 'display', 'culture', 'something', 'long', 'believed', 'to', 'be', 'unique', 'to', 'humans', 'In', 'May', 'a', 'discovery', 'in', 'Australia', 'found', 'bottlenose', 'dolphins', 'Tursiops', 'aduncus', 'teaching', 'their', 'young', 'to', 'use', 'tools', 'They', 'cover', 'their', 'snouts', 'with', 'sponges', 'to', 'protect', 'them', 'while', 'foraging', 'looking', 'or', 'searching', 'for', 'food', 'or', 'provisions', 'Using', 'sponges', 'as', 'mouth', 'protection', 'as', 'well', 'as', 'other', 'transmitted', 'behavior', 'proves', 'dolphins', 'intelligence', 'This', 'knowledge', 'is', 'mostly', 'transferred', 'by', 'mothers', 'to', 'daughters']\n"
     ]
    }
   ],
   "source": [
    "only_words_tokenized = [word for word in tokenized_word if word.isalpha()]\n",
    "print(only_words_tokenized)"
   ]
  },
  {
   "cell_type": "markdown",
   "id": "582a9b11",
   "metadata": {},
   "source": [
    "- Se puede observar que el texto ya no contiene signos de puntuación, ni de exclamación. "
   ]
  },
  {
   "cell_type": "code",
   "execution_count": 11,
   "id": "8d4a6b1c",
   "metadata": {},
   "outputs": [
    {
     "name": "stdout",
     "output_type": "stream",
     "text": [
      "<FreqDist with 160 samples and 227 outcomes>\n"
     ]
    }
   ],
   "source": [
    "fdist_only_words = FreqDist(only_words_tokenized)\n",
    "print(fdist_only_words)"
   ]
  },
  {
   "cell_type": "markdown",
   "id": "6fd394ad",
   "metadata": {},
   "source": [
    "- Ahora se puede observar que el texto tiene 160 muestras y 227 resultados. "
   ]
  },
  {
   "cell_type": "code",
   "execution_count": 12,
   "id": "955b1b19",
   "metadata": {},
   "outputs": [
    {
     "data": {
      "text/plain": [
       "[('to', 11),\n",
       " ('a', 6),\n",
       " ('of', 5),\n",
       " ('as', 4),\n",
       " ('They', 4),\n",
       " ('in', 4),\n",
       " ('with', 4),\n",
       " ('or', 4),\n",
       " ('them', 4),\n",
       " ('Dolphins', 3)]"
      ]
     },
     "execution_count": 12,
     "metadata": {},
     "output_type": "execute_result"
    }
   ],
   "source": [
    "fdist_only_words.most_common(10)"
   ]
  },
  {
   "cell_type": "code",
   "execution_count": 13,
   "id": "039b7f2a",
   "metadata": {},
   "outputs": [
    {
     "name": "stdout",
     "output_type": "stream",
     "text": [
      "      to        a       of       as     They       in     with       or     them Dolphins \n",
      "      11        6        5        4        4        4        4        4        4        3 \n"
     ]
    }
   ],
   "source": [
    "# show the same but in another format \n",
    "fdist_only_words.tabulate(10)"
   ]
  },
  {
   "cell_type": "markdown",
   "id": "06af0079",
   "metadata": {},
   "source": [
    "- Se realiza nuevamente el gráfico que muestra la frecuencia de las palabras, y las que más se repiten son stopwords. Más adelante se mostrará que hacer con ellas. "
   ]
  },
  {
   "cell_type": "code",
   "execution_count": 14,
   "id": "c4f77dbc",
   "metadata": {},
   "outputs": [
    {
     "data": {
      "image/png": "[encoded data removed]",
      "text/plain": [
       "<Figure size 432x288 with 1 Axes>"
      ]
     },
     "metadata": {
      "needs_background": "light"
     },
     "output_type": "display_data"
    }
   ],
   "source": [
    "# Frequency Distribution Plot\n",
    "\n",
    "fdist_only_words.plot(30, cumulative=False)\n",
    "plt.show()"
   ]
  },
  {
   "cell_type": "markdown",
   "id": "384b0591",
   "metadata": {},
   "source": [
    "- En el gráfico se puede observar que ahora las palabras más repetidas son stopwords, pero si se las deja de lado, las palabras que mas se repiten son: \n",
    "- Dolphins \n",
    "- pods"
   ]
  },
  {
   "cell_type": "code",
   "execution_count": 15,
   "id": "a998b1c3",
   "metadata": {},
   "outputs": [
    {
     "name": "stdout",
     "output_type": "stream",
     "text": [
      "Requirement already satisfied: wordcloud in c:\\users\\esteban\\anaconda\\lib\\site-packages (1.8.2.2)\n",
      "Requirement already satisfied: matplotlib in c:\\users\\esteban\\anaconda\\lib\\site-packages (from wordcloud) (3.5.1)\n",
      "Requirement already satisfied: numpy>=1.6.1 in c:\\users\\esteban\\anaconda\\lib\\site-packages (from wordcloud) (1.21.5)\n",
      "Requirement already satisfied: pillow in c:\\users\\esteban\\anaconda\\lib\\site-packages (from wordcloud) (9.0.1)\n",
      "Requirement already satisfied: pyparsing>=2.2.1 in c:\\users\\esteban\\anaconda\\lib\\site-packages (from matplotlib->wordcloud) (3.0.4)\n",
      "Requirement already satisfied: cycler>=0.10 in c:\\users\\esteban\\anaconda\\lib\\site-packages (from matplotlib->wordcloud) (0.11.0)\n",
      "Requirement already satisfied: kiwisolver>=1.0.1 in c:\\users\\esteban\\anaconda\\lib\\site-packages (from matplotlib->wordcloud) (1.3.2)\n",
      "Requirement already satisfied: fonttools>=4.22.0 in c:\\users\\esteban\\anaconda\\lib\\site-packages (from matplotlib->wordcloud) (4.25.0)\n",
      "Requirement already satisfied: packaging>=20.0 in c:\\users\\esteban\\anaconda\\lib\\site-packages (from matplotlib->wordcloud) (21.3)\n",
      "Requirement already satisfied: python-dateutil>=2.7 in c:\\users\\esteban\\anaconda\\lib\\site-packages (from matplotlib->wordcloud) (2.8.2)\n",
      "Requirement already satisfied: six>=1.5 in c:\\users\\esteban\\anaconda\\lib\\site-packages (from python-dateutil>=2.7->matplotlib->wordcloud) (1.16.0)\n"
     ]
    }
   ],
   "source": [
    " !pip install wordcloud"
   ]
  },
  {
   "cell_type": "code",
   "execution_count": 16,
   "id": "e6ddcb5f",
   "metadata": {},
   "outputs": [
    {
     "data": {
      "image/png": "[encoded data removed]",
      "text/plain": [
       "<Figure size 432x288 with 1 Axes>"
      ]
     },
     "metadata": {
      "needs_background": "light"
     },
     "output_type": "display_data"
    }
   ],
   "source": [
    "from wordcloud import WordCloud, STOPWORDS, ImageColorGenerator\n",
    "\n",
    "# Create and generate a word cloud image:\n",
    "wordcloud = WordCloud(background_color='white').generate(text)\n",
    "\n",
    "# Display the generated image:\n",
    "plt.imshow(wordcloud, interpolation='bilinear')\n",
    "plt.axis('off')\n",
    "plt.tight_layout(pad=0)\n",
    "plt.show()"
   ]
  },
  {
   "cell_type": "markdown",
   "id": "edb700b8",
   "metadata": {},
   "source": [
    "- Aquí se puede observar claramente cuales son las palabras que más se repiten. "
   ]
  },
  {
   "cell_type": "code",
   "execution_count": 17,
   "id": "bfcbc581",
   "metadata": {},
   "outputs": [],
   "source": [
    "from PIL import Image\n",
    "\n",
    "#Función para transformar todas las imágenes PNG con fondo transparente a fondo blanco\n",
    "\n",
    "def transform_white_backgroud(png_path):\n",
    "    picture = Image.open(png_path).convert(\"RGBA\")\n",
    "    image = Image.new(\"RGB\", picture.size, \"WHITE\")\n",
    "    image.paste(picture, (0, 0), picture)\n",
    "\n",
    "    plt.imshow(image)\n",
    "    \n",
    "    mask = np.array(image)\n",
    "    \n",
    "    return mask\n"
   ]
  },
  {
   "cell_type": "code",
   "execution_count": 18,
   "id": "4c711b69",
   "metadata": {},
   "outputs": [],
   "source": [
    "#directamente creamos la máscara con la imagen PNG con fondo blanco:\n",
    "\n",
    "#image = Image.open('dolphins.png') #Aquí el path\n",
    "\n",
    "#plt.imshow(image)\n",
    "#plt.axis('off')\n",
    "#mask = np.array(image)\n"
   ]
  },
  {
   "cell_type": "code",
   "execution_count": 19,
   "id": "e394342c",
   "metadata": {},
   "outputs": [
    {
     "data": {
      "image/png": "[encoded data removed]",
      "text/plain": [
       "<Figure size 432x288 with 1 Axes>"
      ]
     },
     "metadata": {
      "needs_background": "light"
     },
     "output_type": "display_data"
    }
   ],
   "source": [
    "mask = transform_white_backgroud('dolphins.png')"
   ]
  },
  {
   "cell_type": "code",
   "execution_count": 20,
   "id": "d03477b3",
   "metadata": {},
   "outputs": [
    {
     "data": {
      "image/png": "[encoded data removed]",
      "text/plain": [
       "<Figure size 1440x576 with 1 Axes>"
      ]
     },
     "metadata": {
      "needs_background": "light"
     },
     "output_type": "display_data"
    }
   ],
   "source": [
    "word_cloud = WordCloud(mask=mask, background_color='white', contour_width=1, contour_color='grey', max_words=200, min_font_size=5, collocation_threshold=10).generate(text)\n",
    "\n",
    "word_cloud.to_file('dolphins.png') #Guardamos la imagen generada\n",
    "\n",
    "plt.figure(figsize=(20,8))\n",
    "plt.imshow(word_cloud)\n",
    "plt.axis('off')\n",
    "plt.tight_layout(pad=10)\n",
    "plt.show()\n"
   ]
  },
  {
   "cell_type": "markdown",
   "id": "dceadfd9",
   "metadata": {},
   "source": [
    "## Exercici 2\n",
    "Treu les stopwords i realitza stemming al teu conjunt de dades.\n",
    "\n",
    "\n",
    "**Stopwords**\n",
    "\n",
    "- Los stopwords son palabras vacías consideradas como ruido en el texto. El texto puede contener palabras vacías como is, am, are, this, a, an, the, etc."
   ]
  },
  {
   "cell_type": "code",
   "execution_count": 21,
   "id": "ec3cbcc7",
   "metadata": {},
   "outputs": [
    {
     "name": "stderr",
     "output_type": "stream",
     "text": [
      "[nltk_data] Downloading package stopwords to\n",
      "[nltk_data]     C:\\Users\\Esteban\\AppData\\Roaming\\nltk_data...\n",
      "[nltk_data]   Package stopwords is already up-to-date!\n"
     ]
    },
    {
     "data": {
      "text/plain": [
       "True"
      ]
     },
     "execution_count": 21,
     "metadata": {},
     "output_type": "execute_result"
    }
   ],
   "source": [
    "nltk.download('stopwords')"
   ]
  },
  {
   "cell_type": "code",
   "execution_count": 22,
   "id": "ff8dbe2c",
   "metadata": {},
   "outputs": [
    {
     "name": "stdout",
     "output_type": "stream",
     "text": [
      "{'their', 're', \"wasn't\", \"wouldn't\", 'over', 'only', 'can', 'this', 'yourselves', 'my', 'until', 'other', \"she's\", 'hadn', 'has', 'if', 'being', 'those', 'up', 'mustn', 'from', 'its', 'against', 'on', \"haven't\", 'shan', 'these', 'i', 'under', \"shan't\", 'ain', 'does', 'won', 'myself', 'was', 'any', 'isn', 't', \"doesn't\", 'once', 'so', 'herself', \"couldn't\", 'hers', 'be', 'same', 'are', 'a', 'ours', 'themselves', 'needn', \"won't\", 'here', 'where', 'as', 'aren', 'shouldn', 'having', 'she', 'yourself', 'her', 'some', 'because', 'for', 'ourselves', 'in', \"you've\", 'with', 'about', 'between', 'then', 'how', 'weren', \"needn't\", 'they', 'both', 'most', 'further', 'through', 'have', 'should', \"aren't\", 'hasn', \"you're\", 'down', \"mustn't\", 'now', 'or', 'himself', \"hasn't\", 'each', \"you'd\", 'yours', 'whom', 'again', 'you', 'not', 'your', 'which', 'don', 'just', 'out', 'y', 'there', 'very', 'too', 'own', \"didn't\", 'when', 'his', 'all', 'had', 'we', 'than', 'haven', 'but', 'do', \"mightn't\", 'd', 'didn', 'theirs', 'at', 'couldn', 'after', 'who', 'to', \"that'll\", 'wouldn', \"weren't\", 'off', \"don't\", 'more', 'he', 'doing', 'them', 'below', 'were', 'will', 'why', 's', 'an', 'ma', 'no', 'what', 'me', 'itself', \"isn't\", 'our', 'the', 'did', 'before', 'him', 've', 'been', 'of', 'nor', 'o', 'while', 'and', 'above', 'wasn', 'mightn', \"it's\", 'by', 'into', 'such', 'll', \"hadn't\", 'm', 'doesn', \"should've\", 'during', 'that', \"shouldn't\", 'is', 'am', \"you'll\", 'few', 'it'}\n"
     ]
    }
   ],
   "source": [
    "# let´s look at stopwords in English\n",
    "from nltk.corpus import stopwords\n",
    "\n",
    "stop_words = set(stopwords.words(\"english\"))\n",
    "print(stop_words)\n"
   ]
  },
  {
   "cell_type": "markdown",
   "id": "f2ee63ab",
   "metadata": {},
   "source": [
    "- Se pueden observar todas las stopwords de la librería. \n",
    "\n",
    "\n",
    "\n",
    "- Se procederá a eliminar las stopwords del texto."
   ]
  },
  {
   "cell_type": "code",
   "execution_count": 23,
   "id": "58faa14d",
   "metadata": {},
   "outputs": [
    {
     "name": "stdout",
     "output_type": "stream",
     "text": [
      "Tokenized Sentence: ['Dolphins', 'are', 'often', 'regarded', 'as', 'one', 'of', 'Earth', \"'s\", 'most', 'intelligent', 'animals', '.', 'They', 'are', 'social', 'creatures', ',', 'living', 'in', 'pods', 'of', 'up', 'to', 'a', 'dozen', 'individuals', '.', 'In', 'places', 'with', 'a', 'high', 'abundance', 'of', 'food', ',', 'pods', 'can', 'merge', 'temporarily', ',', 'forming', 'a', 'superpod', ';', 'such', 'groupings', 'may', 'exceed', '1,000', 'dolphins', '.', 'They', 'communicate', 'using', 'a', 'variety', 'of', 'clicks', ',', 'whistle-like', 'sounds', 'and', 'other', 'vocalizations', '.', 'Membership', 'in', 'pods', 'is', 'not', 'rigid', ';', 'interchange', 'is', 'common', '.', 'Dolphins', 'can', ',', 'however', ',', 'establish', 'strong', 'social', 'bonds', ';', 'they', 'will', 'stay', 'with', 'injured', 'or', 'ill', 'individuals', ',', 'even', 'helping', 'them', 'to', 'breathe', 'by', 'bringing', 'them', 'to', 'the', 'surface', 'if', 'needed', '.', 'This', 'altruism', 'does', 'not', 'appear', 'to', 'be', 'limited', 'to', 'their', 'own', 'species', '.', 'The', 'dolphin', 'Moko', 'in', 'New', 'Zealand', 'has', 'been', 'observed', 'guiding', 'a', 'female', 'Pygmy', 'Sperm', 'Whale', 'together', 'with', 'her', 'calf', 'out', 'of', 'shallow', 'water', 'where', 'they', 'had', 'stranded', 'several', 'times', '.', 'They', 'have', 'also', 'been', 'seen', 'protecting', 'swimmers', 'from', 'sharks', 'by', 'swimming', 'circles', 'around', 'the', 'swimmers', 'or', 'charging', 'the', 'sharks', 'to', 'make', 'them', 'go', 'away', '.', 'Dolphins', 'also', 'display', 'culture', ',', 'something', 'long', 'believed', 'to', 'be', 'unique', 'to', 'humans', '.', 'In', 'May', '2005', ',', 'a', 'discovery', 'in', 'Australia', 'found', 'Indo-Pacific', 'bottlenose', 'dolphins', '(', 'Tursiops', 'aduncus', ')', 'teaching', 'their', 'young', 'to', 'use', 'tools', '.', 'They', 'cover', 'their', 'snouts', 'with', 'sponges', 'to', 'protect', 'them', 'while', 'foraging', '(', 'looking', 'or', 'searching', 'for', 'food', 'or', 'provisions', ')', '.', 'Using', 'sponges', 'as', 'mouth', 'protection', 'as', 'well', 'as', 'other', 'transmitted', 'behavior', 'proves', 'dolphins', \"'\", 'intelligence', '.', 'This', 'knowledge', 'is', 'mostly', 'transferred', 'by', 'mothers', 'to', 'daughters', '.'] \n",
      "\n",
      "Filterd Sentence: ['Dolphins', 'often', 'regarded', 'one', 'Earth', 'intelligent', 'animals', 'They', 'social', 'creatures', 'living', 'pods', 'dozen', 'individuals', 'In', 'places', 'high', 'abundance', 'food', 'pods', 'merge', 'temporarily', 'forming', 'superpod', 'groupings', 'may', 'exceed', 'dolphins', 'They', 'communicate', 'using', 'variety', 'clicks', 'sounds', 'vocalizations', 'Membership', 'pods', 'rigid', 'interchange', 'common', 'Dolphins', 'however', 'establish', 'strong', 'social', 'bonds', 'stay', 'injured', 'ill', 'individuals', 'even', 'helping', 'breathe', 'bringing', 'surface', 'needed', 'This', 'altruism', 'appear', 'limited', 'species', 'The', 'dolphin', 'Moko', 'New', 'Zealand', 'observed', 'guiding', 'female', 'Pygmy', 'Sperm', 'Whale', 'together', 'calf', 'shallow', 'water', 'stranded', 'several', 'times', 'They', 'also', 'seen', 'protecting', 'swimmers', 'sharks', 'swimming', 'circles', 'around', 'swimmers', 'charging', 'sharks', 'make', 'go', 'away', 'Dolphins', 'also', 'display', 'culture', 'something', 'long', 'believed', 'unique', 'humans', 'In', 'May', 'discovery', 'Australia', 'found', 'bottlenose', 'dolphins', 'Tursiops', 'aduncus', 'teaching', 'young', 'use', 'tools', 'They', 'cover', 'snouts', 'sponges', 'protect', 'foraging', 'looking', 'searching', 'food', 'provisions', 'Using', 'sponges', 'mouth', 'protection', 'well', 'transmitted', 'behavior', 'proves', 'dolphins', 'intelligence', 'This', 'knowledge', 'mostly', 'transferred', 'mothers', 'daughters']\n"
     ]
    }
   ],
   "source": [
    "# we are removing all stop words\n",
    "filtered_sent = []\n",
    "\n",
    "for w in only_words_tokenized:\n",
    "    if w not in stop_words:\n",
    "        filtered_sent.append(w)\n",
    "\n",
    "print(\"Tokenized Sentence:\",tokenized_word, \"\\n\\nFilterd Sentence:\",filtered_sent)"
   ]
  },
  {
   "cell_type": "code",
   "execution_count": 24,
   "id": "9fb9bca5",
   "metadata": {},
   "outputs": [
    {
     "name": "stdout",
     "output_type": "stream",
     "text": [
      "263\n",
      "142\n"
     ]
    }
   ],
   "source": [
    "print(len(tokenized_word))\n",
    "print(len(filtered_sent))"
   ]
  },
  {
   "cell_type": "markdown",
   "id": "ac61bc60",
   "metadata": {},
   "source": [
    "- Hay 142 palabras sin las stopwords. "
   ]
  },
  {
   "cell_type": "markdown",
   "id": "6bd6de8e",
   "metadata": {},
   "source": [
    "**Lexicon Normalization** \n",
    "\n",
    "- La normalización del léxico considera otro tipo de ruido en el texto. Por ejemplo, conexión, conectado, la palabra conexión se reduce a una palabra común \"conectar\". Reduce las formas derivadas de una palabra a una raíz común.\n",
    "\n",
    "\n",
    "**Stemming**\n",
    "\n",
    "- Stemming es un proceso de normalización lingüística, que reduce las palabras a su raíz o elimina los afijos derivativos. Por ejemplo, conexión, conectado, la palabra conexión se reduce a una palabra común \"conectar\"."
   ]
  },
  {
   "cell_type": "code",
   "execution_count": 25,
   "id": "add66096",
   "metadata": {},
   "outputs": [
    {
     "name": "stdout",
     "output_type": "stream",
     "text": [
      "Filtered Sentence: ['Dolphins', 'often', 'regarded', 'one', 'Earth', 'intelligent', 'animals', 'They', 'social', 'creatures', 'living', 'pods', 'dozen', 'individuals', 'In', 'places', 'high', 'abundance', 'food', 'pods', 'merge', 'temporarily', 'forming', 'superpod', 'groupings', 'may', 'exceed', 'dolphins', 'They', 'communicate', 'using', 'variety', 'clicks', 'sounds', 'vocalizations', 'Membership', 'pods', 'rigid', 'interchange', 'common', 'Dolphins', 'however', 'establish', 'strong', 'social', 'bonds', 'stay', 'injured', 'ill', 'individuals', 'even', 'helping', 'breathe', 'bringing', 'surface', 'needed', 'This', 'altruism', 'appear', 'limited', 'species', 'The', 'dolphin', 'Moko', 'New', 'Zealand', 'observed', 'guiding', 'female', 'Pygmy', 'Sperm', 'Whale', 'together', 'calf', 'shallow', 'water', 'stranded', 'several', 'times', 'They', 'also', 'seen', 'protecting', 'swimmers', 'sharks', 'swimming', 'circles', 'around', 'swimmers', 'charging', 'sharks', 'make', 'go', 'away', 'Dolphins', 'also', 'display', 'culture', 'something', 'long', 'believed', 'unique', 'humans', 'In', 'May', 'discovery', 'Australia', 'found', 'bottlenose', 'dolphins', 'Tursiops', 'aduncus', 'teaching', 'young', 'use', 'tools', 'They', 'cover', 'snouts', 'sponges', 'protect', 'foraging', 'looking', 'searching', 'food', 'provisions', 'Using', 'sponges', 'mouth', 'protection', 'well', 'transmitted', 'behavior', 'proves', 'dolphins', 'intelligence', 'This', 'knowledge', 'mostly', 'transferred', 'mothers', 'daughters'] \n",
      "\n",
      "Stemmed Text: ['dolphin', 'often', 'regard', 'one', 'earth', 'intellig', 'anim', 'they', 'social', 'creatur', 'live', 'pod', 'dozen', 'individu', 'in', 'place', 'high', 'abund', 'food', 'pod', 'merg', 'temporarili', 'form', 'superpod', 'group', 'may', 'exceed', 'dolphin', 'they', 'commun', 'use', 'varieti', 'click', 'sound', 'vocal', 'membership', 'pod', 'rigid', 'interchang', 'common', 'dolphin', 'howev', 'establish', 'strong', 'social', 'bond', 'stay', 'injur', 'ill', 'individu', 'even', 'help', 'breath', 'bring', 'surfac', 'need', 'thi', 'altruism', 'appear', 'limit', 'speci', 'the', 'dolphin', 'moko', 'new', 'zealand', 'observ', 'guid', 'femal', 'pygmi', 'sperm', 'whale', 'togeth', 'calf', 'shallow', 'water', 'strand', 'sever', 'time', 'they', 'also', 'seen', 'protect', 'swimmer', 'shark', 'swim', 'circl', 'around', 'swimmer', 'charg', 'shark', 'make', 'go', 'away', 'dolphin', 'also', 'display', 'cultur', 'someth', 'long', 'believ', 'uniqu', 'human', 'in', 'may', 'discoveri', 'australia', 'found', 'bottlenos', 'dolphin', 'tursiop', 'aduncu', 'teach', 'young', 'use', 'tool', 'they', 'cover', 'snout', 'spong', 'protect', 'forag', 'look', 'search', 'food', 'provis', 'use', 'spong', 'mouth', 'protect', 'well', 'transmit', 'behavior', 'prove', 'dolphin', 'intellig', 'thi', 'knowledg', 'mostli', 'transfer', 'mother', 'daughter']\n"
     ]
    }
   ],
   "source": [
    "# Stemming\n",
    "from nltk.stem import PorterStemmer\n",
    "\n",
    "ps = PorterStemmer()\n",
    "\n",
    "stemmed_words = []\n",
    "for w in filtered_sent:\n",
    "    stemmed_words.append(ps.stem(w))\n",
    "\n",
    "print(\"Filtered Sentence:\",filtered_sent, \"\\n\\nStemmed Text:\",stemmed_words)"
   ]
  },
  {
   "cell_type": "markdown",
   "id": "cca995fc",
   "metadata": {},
   "source": [
    "- Se imprimió el texto sin palabras vacías junto al texto stemmed para apreciar las diferencias en las palabras.\n",
    "\n",
    "\n",
    "\n",
    "\n",
    "**Lemmatization**\n",
    "\n",
    "- La lematización reduce las palabras a su palabra base, que lema es lingüísticamente correcto. Transforma raíces de palabras con el uso de vocabulario y análisis morfológico. La lematización suele ser más sofisticada que el Stemming. Stemmer trabaja en una palabra individual sin conocimiento del contexto. Por ejemplo, la palabra \"mejor\" tiene \"bueno\" como lema. Esta palabra se perderá al derivar( stemming) porque requiere una búsqueda en el diccionario."
   ]
  },
  {
   "cell_type": "code",
   "execution_count": 26,
   "id": "673ca1fb",
   "metadata": {},
   "outputs": [
    {
     "name": "stderr",
     "output_type": "stream",
     "text": [
      "[nltk_data] Downloading package wordnet to\n",
      "[nltk_data]     C:\\Users\\Esteban\\AppData\\Roaming\\nltk_data...\n",
      "[nltk_data]   Package wordnet is already up-to-date!\n"
     ]
    },
    {
     "data": {
      "text/plain": [
       "True"
      ]
     },
     "execution_count": 26,
     "metadata": {},
     "output_type": "execute_result"
    }
   ],
   "source": [
    "nltk.download('wordnet')"
   ]
  },
  {
   "cell_type": "code",
   "execution_count": 27,
   "id": "dc077c03",
   "metadata": {},
   "outputs": [
    {
     "name": "stdout",
     "output_type": "stream",
     "text": [
      "['Dolphins', 'are', 'often', 'regarded', 'as', 'one', 'of', 'Earth', \"'s\", 'most', 'intelligent', 'animals', '.', 'They', 'are', 'social', 'creatures', ',', 'living', 'in', 'pods', 'of', 'up', 'to', 'a', 'dozen', 'individuals', '.', 'In', 'places', 'with', 'a', 'high', 'abundance', 'of', 'food', ',', 'pods', 'can', 'merge', 'temporarily', ',', 'forming', 'a', 'superpod', ';', 'such', 'groupings', 'may', 'exceed', '1,000', 'dolphins', '.', 'They', 'communicate', 'using', 'a', 'variety', 'of', 'clicks', ',', 'whistle-like', 'sounds', 'and', 'other', 'vocalizations', '.', 'Membership', 'in', 'pods', 'is', 'not', 'rigid', ';', 'interchange', 'is', 'common', '.', 'Dolphins', 'can', ',', 'however', ',', 'establish', 'strong', 'social', 'bonds', ';', 'they', 'will', 'stay', 'with', 'injured', 'or', 'ill', 'individuals', ',', 'even', 'helping', 'them', 'to', 'breathe', 'by', 'bringing', 'them', 'to', 'the', 'surface', 'if', 'needed', '.', 'This', 'altruism', 'does', 'not', 'appear', 'to', 'be', 'limited', 'to', 'their', 'own', 'species', '.', 'The', 'dolphin', 'Moko', 'in', 'New', 'Zealand', 'has', 'been', 'observed', 'guiding', 'a', 'female', 'Pygmy', 'Sperm', 'Whale', 'together', 'with', 'her', 'calf', 'out', 'of', 'shallow', 'water', 'where', 'they', 'had', 'stranded', 'several', 'times', '.', 'They', 'have', 'also', 'been', 'seen', 'protecting', 'swimmers', 'from', 'sharks', 'by', 'swimming', 'circles', 'around', 'the', 'swimmers', 'or', 'charging', 'the', 'sharks', 'to', 'make', 'them', 'go', 'away', '.', 'Dolphins', 'also', 'display', 'culture', ',', 'something', 'long', 'believed', 'to', 'be', 'unique', 'to', 'humans', '.', 'In', 'May', '2005', ',', 'a', 'discovery', 'in', 'Australia', 'found', 'Indo-Pacific', 'bottlenose', 'dolphins', '(', 'Tursiops', 'aduncus', ')', 'teaching', 'their', 'young', 'to', 'use', 'tools', '.', 'They', 'cover', 'their', 'snouts', 'with', 'sponges', 'to', 'protect', 'them', 'while', 'foraging', '(', 'looking', 'or', 'searching', 'for', 'food', 'or', 'provisions', ')', '.', 'Using', 'sponges', 'as', 'mouth', 'protection', 'as', 'well', 'as', 'other', 'transmitted', 'behavior', 'proves', 'dolphins', \"'\", 'intelligence', '.', 'This', 'knowledge', 'is', 'mostly', 'transferred', 'by', 'mothers', 'to', 'daughters', '.']\n"
     ]
    }
   ],
   "source": [
    "tokens = nltk.word_tokenize(text)\n",
    "print(tokens)"
   ]
  },
  {
   "cell_type": "code",
   "execution_count": 28,
   "id": "911dfd91",
   "metadata": {},
   "outputs": [
    {
     "name": "stdout",
     "output_type": "stream",
     "text": [
      "Filtered words: ['Dolphins', 'often', 'regarded', 'one', 'Earth', 'intelligent', 'animals', 'They', 'social', 'creatures', 'living', 'pods', 'dozen', 'individuals', 'In', 'places', 'high', 'abundance', 'food', 'pods', 'merge', 'temporarily', 'forming', 'superpod', 'groupings', 'may', 'exceed', 'dolphins', 'They', 'communicate', 'using', 'variety', 'clicks', 'sounds', 'vocalizations', 'Membership', 'pods', 'rigid', 'interchange', 'common', 'Dolphins', 'however', 'establish', 'strong', 'social', 'bonds', 'stay', 'injured', 'ill', 'individuals', 'even', 'helping', 'breathe', 'bringing', 'surface', 'needed', 'This', 'altruism', 'appear', 'limited', 'species', 'The', 'dolphin', 'Moko', 'New', 'Zealand', 'observed', 'guiding', 'female', 'Pygmy', 'Sperm', 'Whale', 'together', 'calf', 'shallow', 'water', 'stranded', 'several', 'times', 'They', 'also', 'seen', 'protecting', 'swimmers', 'sharks', 'swimming', 'circles', 'around', 'swimmers', 'charging', 'sharks', 'make', 'go', 'away', 'Dolphins', 'also', 'display', 'culture', 'something', 'long', 'believed', 'unique', 'humans', 'In', 'May', 'discovery', 'Australia', 'found', 'bottlenose', 'dolphins', 'Tursiops', 'aduncus', 'teaching', 'young', 'use', 'tools', 'They', 'cover', 'snouts', 'sponges', 'protect', 'foraging', 'looking', 'searching', 'food', 'provisions', 'Using', 'sponges', 'mouth', 'protection', 'well', 'transmitted', 'behavior', 'proves', 'dolphins', 'intelligence', 'This', 'knowledge', 'mostly', 'transferred', 'mothers', 'daughters'] \n",
      "\n",
      "Lemmatized words: ['Dolphins', 'often', 'regard', 'one', 'Earth', 'intelligent', 'animals', 'They', 'social', 'creatures', 'live', 'pod', 'dozen', 'individuals', 'In', 'place', 'high', 'abundance', 'food', 'pod', 'merge', 'temporarily', 'form', 'superpod', 'group', 'may', 'exceed', 'dolphins', 'They', 'communicate', 'use', 'variety', 'click', 'sound', 'vocalizations', 'Membership', 'pod', 'rigid', 'interchange', 'common', 'Dolphins', 'however', 'establish', 'strong', 'social', 'bond', 'stay', 'injure', 'ill', 'individuals', 'even', 'help', 'breathe', 'bring', 'surface', 'need', 'This', 'altruism', 'appear', 'limit', 'species', 'The', 'dolphin', 'Moko', 'New', 'Zealand', 'observe', 'guide', 'female', 'Pygmy', 'Sperm', 'Whale', 'together', 'calf', 'shallow', 'water', 'strand', 'several', 'time', 'They', 'also', 'see', 'protect', 'swimmers', 'shark', 'swim', 'circle', 'around', 'swimmers', 'charge', 'shark', 'make', 'go', 'away', 'Dolphins', 'also', 'display', 'culture', 'something', 'long', 'believe', 'unique', 'humans', 'In', 'May', 'discovery', 'Australia', 'find', 'bottlenose', 'dolphins', 'Tursiops', 'aduncus', 'teach', 'young', 'use', 'tool', 'They', 'cover', 'snouts', 'sponge', 'protect', 'forage', 'look', 'search', 'food', 'provision', 'Using', 'sponge', 'mouth', 'protection', 'well', 'transmit', 'behavior', 'prove', 'dolphins', 'intelligence', 'This', 'knowledge', 'mostly', 'transfer', 'mother', 'daughters']\n"
     ]
    }
   ],
   "source": [
    "#Lexicon Normalization\n",
    "#performing stemming and Lemmatization\n",
    "from nltk.stem.wordnet import WordNetLemmatizer\n",
    "lem = WordNetLemmatizer()\n",
    "\n",
    "lemma_words=[]\n",
    "for w in filtered_sent:\n",
    "    lemma_words.append(lem.lemmatize(w, \"v\"))\n",
    "\n",
    "print(\"Filtered words:\",filtered_sent, \"\\n\\nLemmatized words:\",lemma_words)\n"
   ]
  },
  {
   "cell_type": "code",
   "execution_count": 29,
   "id": "2be82051",
   "metadata": {},
   "outputs": [
    {
     "name": "stdout",
     "output_type": "stream",
     "text": [
      "142\n",
      "142\n"
     ]
    }
   ],
   "source": [
    "print (len(filtered_sent))\n",
    "print (len(lemma_words))"
   ]
  },
  {
   "cell_type": "code",
   "execution_count": 30,
   "id": "53317765",
   "metadata": {},
   "outputs": [
    {
     "name": "stdout",
     "output_type": "stream",
     "text": [
      "Stemmed words: ['dolphin', 'often', 'regard', 'one', 'earth', 'intellig', 'anim', 'they', 'social', 'creatur', 'live', 'pod', 'dozen', 'individu', 'in', 'place', 'high', 'abund', 'food', 'pod', 'merg', 'temporarili', 'form', 'superpod', 'group', 'may', 'exceed', 'dolphin', 'they', 'commun', 'use', 'varieti', 'click', 'sound', 'vocal', 'membership', 'pod', 'rigid', 'interchang', 'common', 'dolphin', 'howev', 'establish', 'strong', 'social', 'bond', 'stay', 'injur', 'ill', 'individu', 'even', 'help', 'breath', 'bring', 'surfac', 'need', 'thi', 'altruism', 'appear', 'limit', 'speci', 'the', 'dolphin', 'moko', 'new', 'zealand', 'observ', 'guid', 'femal', 'pygmi', 'sperm', 'whale', 'togeth', 'calf', 'shallow', 'water', 'strand', 'sever', 'time', 'they', 'also', 'seen', 'protect', 'swimmer', 'shark', 'swim', 'circl', 'around', 'swimmer', 'charg', 'shark', 'make', 'go', 'away', 'dolphin', 'also', 'display', 'cultur', 'someth', 'long', 'believ', 'uniqu', 'human', 'in', 'may', 'discoveri', 'australia', 'found', 'bottlenos', 'dolphin', 'tursiop', 'aduncu', 'teach', 'young', 'use', 'tool', 'they', 'cover', 'snout', 'spong', 'protect', 'forag', 'look', 'search', 'food', 'provis', 'use', 'spong', 'mouth', 'protect', 'well', 'transmit', 'behavior', 'prove', 'dolphin', 'intellig', 'thi', 'knowledg', 'mostli', 'transfer', 'mother', 'daughter'] \n",
      "\n",
      "Lemmatized words: ['dolphin', 'often', 'regard', 'one', 'earth', 'intellig', 'anim', 'they', 'social', 'creatur', 'live', 'pod', 'dozen', 'individu', 'in', 'place', 'high', 'abund', 'food', 'pod', 'merg', 'temporarili', 'form', 'superpod', 'group', 'may', 'exceed', 'dolphin', 'they', 'commun', 'use', 'varieti', 'click', 'sound', 'vocal', 'membership', 'pod', 'rigid', 'interchang', 'common', 'dolphin', 'howev', 'establish', 'strong', 'social', 'bond', 'stay', 'injur', 'ill', 'individu', 'even', 'help', 'breath', 'bring', 'surfac', 'need', 'thi', 'altruism', 'appear', 'limit', 'speci', 'the', 'dolphin', 'moko', 'new', 'zealand', 'observ', 'guid', 'femal', 'pygmi', 'sperm', 'whale', 'togeth', 'calf', 'shallow', 'water', 'strand', 'sever', 'time', 'they', 'also', 'see', 'protect', 'swimmer', 'shark', 'swim', 'circl', 'around', 'swimmer', 'charg', 'shark', 'make', 'go', 'away', 'dolphin', 'also', 'display', 'cultur', 'someth', 'long', 'believ', 'uniqu', 'human', 'in', 'may', 'discoveri', 'australia', 'find', 'bottlenos', 'dolphin', 'tursiop', 'aduncu', 'teach', 'young', 'use', 'tool', 'they', 'cover', 'snout', 'spong', 'protect', 'forag', 'look', 'search', 'food', 'provis', 'use', 'spong', 'mouth', 'protect', 'well', 'transmit', 'behavior', 'prove', 'dolphin', 'intellig', 'thi', 'knowledg', 'mostli', 'transfer', 'mother', 'daughter']\n"
     ]
    }
   ],
   "source": [
    "lem = WordNetLemmatizer()\n",
    "\n",
    "lemma_words=[]\n",
    "for w in stemmed_words:\n",
    "    lemma_words.append(lem.lemmatize(w, 'v'))\n",
    "\n",
    "print('Stemmed words:',stemmed_words, '\\n\\nLemmatized words:',lemma_words)"
   ]
  },
  {
   "cell_type": "code",
   "execution_count": 31,
   "id": "8860c13a",
   "metadata": {},
   "outputs": [
    {
     "name": "stdout",
     "output_type": "stream",
     "text": [
      "142\n",
      "142\n"
     ]
    }
   ],
   "source": [
    "print (len(stemmed_words))\n",
    "print (len(lemma_words))"
   ]
  },
  {
   "cell_type": "markdown",
   "id": "36297581",
   "metadata": {},
   "source": [
    "- No se evidencia reducción de palabras luego de realizar \"Lemmatization\"."
   ]
  },
  {
   "cell_type": "markdown",
   "id": "a1e863bf",
   "metadata": {},
   "source": [
    "## Exercici 3\n",
    "Realitza sentiment analysis al teu conjunt de dades.\n",
    "\n",
    "\n",
    "Existen principalmente dos enfoques para realizar el análisis de sentimiento.\n",
    "\n",
    "- Basado en el léxico: cuente el número de palabras positivas y negativas en un texto dado y el recuento más grande será el sentimiento del texto.\n",
    "\n",
    "- Enfoque basado en aprendizaje automático: Desarrolle un modelo de clasificación, que se entrena utilizando el conjunto de datos preetiquetado de positivo, negativo y neutral.\n",
    "\n",
    "\n",
    "\n",
    "\n",
    "\n",
    "- Primero, se realizará el análisis de sentimientos basado en el léxico. \n",
    "\n",
    "**Lexicon-based**"
   ]
  },
  {
   "cell_type": "code",
   "execution_count": 32,
   "id": "11e115cd",
   "metadata": {},
   "outputs": [
    {
     "name": "stderr",
     "output_type": "stream",
     "text": [
      "[nltk_data] Downloading package vader_lexicon to\n",
      "[nltk_data]     C:\\Users\\Esteban\\AppData\\Roaming\\nltk_data...\n",
      "[nltk_data]   Package vader_lexicon is already up-to-date!\n"
     ]
    },
    {
     "data": {
      "text/plain": [
       "True"
      ]
     },
     "execution_count": 32,
     "metadata": {},
     "output_type": "execute_result"
    }
   ],
   "source": [
    "nltk.download('vader_lexicon')"
   ]
  },
  {
   "cell_type": "code",
   "execution_count": 33,
   "id": "5a3f7242",
   "metadata": {},
   "outputs": [
    {
     "data": {
      "text/plain": [
       "{'neg': 0.031, 'neu': 0.894, 'pos': 0.075, 'compound': 0.8612}"
      ]
     },
     "execution_count": 33,
     "metadata": {},
     "output_type": "execute_result"
    }
   ],
   "source": [
    "from nltk.sentiment.vader import SentimentIntensityAnalyzer\n",
    "\n",
    "# we use the original text\n",
    "sentiment = SentimentIntensityAnalyzer()\n",
    "sentiment.polarity_scores(text)"
   ]
  },
  {
   "cell_type": "markdown",
   "id": "5d1f0674",
   "metadata": {},
   "source": [
    "- Se observa un diccionario con los porcentajes de palabras negativas, neutras y positivas, y el resultado final, el compound 0.8612, nos dice que el análisis es positivo.\n",
    "\n",
    "- La puntuación compuesta (compound) es la suma de puntuaciones positivas, negativas y neutras que luego se normaliza entre -1 (negativo más extremo) y +1 (positivo más extremo). Cuanto más se acerque la puntuación compuesta a +1, mayor será la positividad de la texto."
   ]
  },
  {
   "cell_type": "code",
   "execution_count": 34,
   "id": "433fa30c",
   "metadata": {},
   "outputs": [],
   "source": [
    "sent_dict = sentiment.polarity_scores(text)"
   ]
  },
  {
   "cell_type": "code",
   "execution_count": 35,
   "id": "98d594c2",
   "metadata": {},
   "outputs": [
    {
     "name": "stdout",
     "output_type": "stream",
     "text": [
      "El texto general es:  {'neg': 0.031, 'neu': 0.894, 'pos': 0.075, 'compound': 0.8612}\n",
      "El texto fue calificado como 3.1 % Negative\n",
      "El texto fue calificado como 89.4 % Neutral\n",
      "El texto fue calificado como 7.5 % Positive\n",
      "El texto en general fue calificado como Positive con una puntuación de:  0.8612\n"
     ]
    }
   ],
   "source": [
    "def sent_score(): \n",
    "    \n",
    "    if sent_dict['compound'] >= 0.05 :\n",
    "        return 'Positive'\n",
    "    elif sent_dict['compound'] <= - 0.05 :\n",
    "        return 'Negative'\n",
    "    else :\n",
    "        return 'Neutral'\n",
    "\n",
    "result = sent_score()\n",
    "\n",
    "print('El texto general es: ', sent_dict)\n",
    "print('El texto fue calificado como', sent_dict['neg']*100, '% Negative')\n",
    "print('El texto fue calificado como', sent_dict['neu']*100, '% Neutral')\n",
    "print('El texto fue calificado como', sent_dict['pos']*100, '% Positive')\n",
    "\n",
    "print('El texto en general fue calificado como',result, 'con una puntuación de: ', sent_dict['compound'])\n"
   ]
  },
  {
   "cell_type": "code",
   "execution_count": 36,
   "id": "a5c56195",
   "metadata": {},
   "outputs": [
    {
     "data": {
      "text/html": [
       "<div>\n",
       "<style scoped>\n",
       "    .dataframe tbody tr th:only-of-type {\n",
       "        vertical-align: middle;\n",
       "    }\n",
       "\n",
       "    .dataframe tbody tr th {\n",
       "        vertical-align: top;\n",
       "    }\n",
       "\n",
       "    .dataframe thead th {\n",
       "        text-align: right;\n",
       "    }\n",
       "</style>\n",
       "<table border=\"1\" class=\"dataframe\">\n",
       "  <thead>\n",
       "    <tr style=\"text-align: right;\">\n",
       "      <th></th>\n",
       "      <th>Name Text</th>\n",
       "      <th>Negavite</th>\n",
       "      <th>Neutral</th>\n",
       "      <th>Positive</th>\n",
       "      <th>Compound</th>\n",
       "    </tr>\n",
       "  </thead>\n",
       "  <tbody>\n",
       "    <tr>\n",
       "      <th>0</th>\n",
       "      <td>Dolphin</td>\n",
       "      <td>0.031</td>\n",
       "      <td>0.894</td>\n",
       "      <td>0.075</td>\n",
       "      <td>0.8612</td>\n",
       "    </tr>\n",
       "  </tbody>\n",
       "</table>\n",
       "</div>"
      ],
      "text/plain": [
       "  Name Text  Negavite  Neutral  Positive  Compound\n",
       "0   Dolphin     0.031    0.894     0.075    0.8612"
      ]
     },
     "execution_count": 36,
     "metadata": {},
     "output_type": "execute_result"
    }
   ],
   "source": [
    "import pandas as pd\n",
    "\n",
    "metrics = pd.DataFrame(data=[['Dolphin',0.031, 0.894,0.075, 0.8612]],\n",
    "                        columns = ['Name Text','Negavite', 'Neutral','Positive', 'Compound'])\n",
    "\n",
    "\n",
    "metrics.head()\n"
   ]
  },
  {
   "cell_type": "markdown",
   "id": "000108c9",
   "metadata": {},
   "source": [
    "**Sentiment Analysis on individual sentences of the text**\n",
    "\n",
    "También se analizarán las oraciones individualmente en el texto:"
   ]
  },
  {
   "cell_type": "code",
   "execution_count": 37,
   "id": "1ea03c76",
   "metadata": {},
   "outputs": [
    {
     "data": {
      "text/plain": [
       "[\"Dolphins are often regarded as one of Earth's most intelligent animals.\",\n",
       " 'They are social creatures,\\nliving in pods of up to a dozen individuals.',\n",
       " 'In places with a high abundance of food, pods can merge temporarily, \\nforming a superpod; such groupings may exceed 1,000 dolphins.',\n",
       " 'They communicate using a variety of clicks, \\nwhistle-like sounds and other vocalizations.',\n",
       " 'Membership in pods is not rigid; interchange is common.',\n",
       " 'Dolphins can, however, establish strong social bonds; \\nthey will stay with injured or ill individuals, even helping them to breathe by bringing them to the surface if needed.',\n",
       " 'This altruism does not appear to be limited to their own species.',\n",
       " 'The dolphin Moko in New Zealand has been observed \\nguiding a female Pygmy Sperm Whale together with her calf out of shallow water where they had stranded several times.',\n",
       " 'They have also been seen protecting swimmers from sharks by swimming circles around the swimmers or charging the sharks \\nto make them go away.',\n",
       " 'Dolphins also display culture, something long believed to be unique to humans.',\n",
       " 'In May 2005, a discovery in Australia found Indo-Pacific bottlenose dolphins (Tursiops aduncus) teaching their young \\nto use tools.',\n",
       " 'They cover their snouts with sponges to protect them while foraging (looking or searching for \\nfood or provisions).',\n",
       " \"Using sponges as mouth protection as well as other transmitted behavior proves dolphins' intelligence.\",\n",
       " 'This knowledge is mostly transferred by mothers to daughters.']"
      ]
     },
     "execution_count": 37,
     "metadata": {},
     "output_type": "execute_result"
    }
   ],
   "source": [
    "# first we split the text into sentences \n",
    "sentences = nltk.sent_tokenize(text)\n",
    "sentences"
   ]
  },
  {
   "cell_type": "code",
   "execution_count": 38,
   "id": "14a09640",
   "metadata": {},
   "outputs": [
    {
     "data": {
      "text/html": [
       "<div>\n",
       "<style scoped>\n",
       "    .dataframe tbody tr th:only-of-type {\n",
       "        vertical-align: middle;\n",
       "    }\n",
       "\n",
       "    .dataframe tbody tr th {\n",
       "        vertical-align: top;\n",
       "    }\n",
       "\n",
       "    .dataframe thead th {\n",
       "        text-align: right;\n",
       "    }\n",
       "</style>\n",
       "<table border=\"1\" class=\"dataframe\">\n",
       "  <thead>\n",
       "    <tr style=\"text-align: right;\">\n",
       "      <th></th>\n",
       "      <th>Sentences</th>\n",
       "    </tr>\n",
       "  </thead>\n",
       "  <tbody>\n",
       "    <tr>\n",
       "      <th>0</th>\n",
       "      <td>Dolphins are often regarded as one of Earth's ...</td>\n",
       "    </tr>\n",
       "    <tr>\n",
       "      <th>1</th>\n",
       "      <td>They are social creatures,\\nliving in pods of ...</td>\n",
       "    </tr>\n",
       "    <tr>\n",
       "      <th>2</th>\n",
       "      <td>In places with a high abundance of food, pods ...</td>\n",
       "    </tr>\n",
       "    <tr>\n",
       "      <th>3</th>\n",
       "      <td>They communicate using a variety of clicks, \\n...</td>\n",
       "    </tr>\n",
       "    <tr>\n",
       "      <th>4</th>\n",
       "      <td>Membership in pods is not rigid; interchange i...</td>\n",
       "    </tr>\n",
       "    <tr>\n",
       "      <th>5</th>\n",
       "      <td>Dolphins can, however, establish strong social...</td>\n",
       "    </tr>\n",
       "    <tr>\n",
       "      <th>6</th>\n",
       "      <td>This altruism does not appear to be limited to...</td>\n",
       "    </tr>\n",
       "    <tr>\n",
       "      <th>7</th>\n",
       "      <td>The dolphin Moko in New Zealand has been obser...</td>\n",
       "    </tr>\n",
       "    <tr>\n",
       "      <th>8</th>\n",
       "      <td>They have also been seen protecting swimmers f...</td>\n",
       "    </tr>\n",
       "    <tr>\n",
       "      <th>9</th>\n",
       "      <td>Dolphins also display culture, something long ...</td>\n",
       "    </tr>\n",
       "    <tr>\n",
       "      <th>10</th>\n",
       "      <td>In May 2005, a discovery in Australia found In...</td>\n",
       "    </tr>\n",
       "    <tr>\n",
       "      <th>11</th>\n",
       "      <td>They cover their snouts with sponges to protec...</td>\n",
       "    </tr>\n",
       "    <tr>\n",
       "      <th>12</th>\n",
       "      <td>Using sponges as mouth protection as well as o...</td>\n",
       "    </tr>\n",
       "    <tr>\n",
       "      <th>13</th>\n",
       "      <td>This knowledge is mostly transferred by mother...</td>\n",
       "    </tr>\n",
       "  </tbody>\n",
       "</table>\n",
       "</div>"
      ],
      "text/plain": [
       "                                            Sentences\n",
       "0   Dolphins are often regarded as one of Earth's ...\n",
       "1   They are social creatures,\\nliving in pods of ...\n",
       "2   In places with a high abundance of food, pods ...\n",
       "3   They communicate using a variety of clicks, \\n...\n",
       "4   Membership in pods is not rigid; interchange i...\n",
       "5   Dolphins can, however, establish strong social...\n",
       "6   This altruism does not appear to be limited to...\n",
       "7   The dolphin Moko in New Zealand has been obser...\n",
       "8   They have also been seen protecting swimmers f...\n",
       "9   Dolphins also display culture, something long ...\n",
       "10  In May 2005, a discovery in Australia found In...\n",
       "11  They cover their snouts with sponges to protec...\n",
       "12  Using sponges as mouth protection as well as o...\n",
       "13  This knowledge is mostly transferred by mother..."
      ]
     },
     "execution_count": 38,
     "metadata": {},
     "output_type": "execute_result"
    }
   ],
   "source": [
    "df = pd.DataFrame(tokenized_text, columns=['Sentences'])\n",
    "df"
   ]
  },
  {
   "cell_type": "markdown",
   "id": "24c0e293",
   "metadata": {},
   "source": [
    "- Se observa que el texto tiene 14 frases. "
   ]
  },
  {
   "cell_type": "code",
   "execution_count": 39,
   "id": "e2d74f23",
   "metadata": {},
   "outputs": [
    {
     "data": {
      "text/html": [
       "<div>\n",
       "<style scoped>\n",
       "    .dataframe tbody tr th:only-of-type {\n",
       "        vertical-align: middle;\n",
       "    }\n",
       "\n",
       "    .dataframe tbody tr th {\n",
       "        vertical-align: top;\n",
       "    }\n",
       "\n",
       "    .dataframe thead th {\n",
       "        text-align: right;\n",
       "    }\n",
       "</style>\n",
       "<table border=\"1\" class=\"dataframe\">\n",
       "  <thead>\n",
       "    <tr style=\"text-align: right;\">\n",
       "      <th></th>\n",
       "      <th>Sentence</th>\n",
       "      <th>Positive</th>\n",
       "      <th>Negative</th>\n",
       "      <th>Neutral</th>\n",
       "      <th>Compound</th>\n",
       "    </tr>\n",
       "  </thead>\n",
       "  <tbody>\n",
       "    <tr>\n",
       "      <th>0</th>\n",
       "      <td>Dolphins are often regarded as one of Earth's ...</td>\n",
       "      <td>0.248</td>\n",
       "      <td>0.000</td>\n",
       "      <td>0.752</td>\n",
       "      <td>0.5095</td>\n",
       "    </tr>\n",
       "    <tr>\n",
       "      <th>1</th>\n",
       "      <td>They are social creatures,\\nliving in pods of ...</td>\n",
       "      <td>0.000</td>\n",
       "      <td>0.000</td>\n",
       "      <td>1.000</td>\n",
       "      <td>0.0000</td>\n",
       "    </tr>\n",
       "    <tr>\n",
       "      <th>2</th>\n",
       "      <td>In places with a high abundance of food, pods ...</td>\n",
       "      <td>0.000</td>\n",
       "      <td>0.000</td>\n",
       "      <td>1.000</td>\n",
       "      <td>0.0000</td>\n",
       "    </tr>\n",
       "    <tr>\n",
       "      <th>3</th>\n",
       "      <td>They communicate using a variety of clicks, \\n...</td>\n",
       "      <td>0.000</td>\n",
       "      <td>0.000</td>\n",
       "      <td>1.000</td>\n",
       "      <td>0.0000</td>\n",
       "    </tr>\n",
       "    <tr>\n",
       "      <th>4</th>\n",
       "      <td>Membership in pods is not rigid; interchange i...</td>\n",
       "      <td>0.146</td>\n",
       "      <td>0.000</td>\n",
       "      <td>0.854</td>\n",
       "      <td>0.0951</td>\n",
       "    </tr>\n",
       "    <tr>\n",
       "      <th>5</th>\n",
       "      <td>Dolphins can, however, establish strong social...</td>\n",
       "      <td>0.157</td>\n",
       "      <td>0.157</td>\n",
       "      <td>0.686</td>\n",
       "      <td>-0.0000</td>\n",
       "    </tr>\n",
       "    <tr>\n",
       "      <th>6</th>\n",
       "      <td>This altruism does not appear to be limited to...</td>\n",
       "      <td>0.000</td>\n",
       "      <td>0.147</td>\n",
       "      <td>0.853</td>\n",
       "      <td>-0.2263</td>\n",
       "    </tr>\n",
       "    <tr>\n",
       "      <th>7</th>\n",
       "      <td>The dolphin Moko in New Zealand has been obser...</td>\n",
       "      <td>0.000</td>\n",
       "      <td>0.000</td>\n",
       "      <td>1.000</td>\n",
       "      <td>0.0000</td>\n",
       "    </tr>\n",
       "    <tr>\n",
       "      <th>8</th>\n",
       "      <td>They have also been seen protecting swimmers f...</td>\n",
       "      <td>0.000</td>\n",
       "      <td>0.000</td>\n",
       "      <td>1.000</td>\n",
       "      <td>0.0000</td>\n",
       "    </tr>\n",
       "    <tr>\n",
       "      <th>9</th>\n",
       "      <td>Dolphins also display culture, something long ...</td>\n",
       "      <td>0.000</td>\n",
       "      <td>0.000</td>\n",
       "      <td>1.000</td>\n",
       "      <td>0.0000</td>\n",
       "    </tr>\n",
       "    <tr>\n",
       "      <th>10</th>\n",
       "      <td>In May 2005, a discovery in Australia found In...</td>\n",
       "      <td>0.000</td>\n",
       "      <td>0.000</td>\n",
       "      <td>1.000</td>\n",
       "      <td>0.0000</td>\n",
       "    </tr>\n",
       "    <tr>\n",
       "      <th>11</th>\n",
       "      <td>They cover their snouts with sponges to protec...</td>\n",
       "      <td>0.133</td>\n",
       "      <td>0.000</td>\n",
       "      <td>0.867</td>\n",
       "      <td>0.3818</td>\n",
       "    </tr>\n",
       "    <tr>\n",
       "      <th>12</th>\n",
       "      <td>Using sponges as mouth protection as well as o...</td>\n",
       "      <td>0.302</td>\n",
       "      <td>0.000</td>\n",
       "      <td>0.698</td>\n",
       "      <td>0.6369</td>\n",
       "    </tr>\n",
       "    <tr>\n",
       "      <th>13</th>\n",
       "      <td>This knowledge is mostly transferred by mother...</td>\n",
       "      <td>0.000</td>\n",
       "      <td>0.000</td>\n",
       "      <td>1.000</td>\n",
       "      <td>0.0000</td>\n",
       "    </tr>\n",
       "  </tbody>\n",
       "</table>\n",
       "</div>"
      ],
      "text/plain": [
       "                                             Sentence  Positive  Negative  \\\n",
       "0   Dolphins are often regarded as one of Earth's ...     0.248     0.000   \n",
       "1   They are social creatures,\\nliving in pods of ...     0.000     0.000   \n",
       "2   In places with a high abundance of food, pods ...     0.000     0.000   \n",
       "3   They communicate using a variety of clicks, \\n...     0.000     0.000   \n",
       "4   Membership in pods is not rigid; interchange i...     0.146     0.000   \n",
       "5   Dolphins can, however, establish strong social...     0.157     0.157   \n",
       "6   This altruism does not appear to be limited to...     0.000     0.147   \n",
       "7   The dolphin Moko in New Zealand has been obser...     0.000     0.000   \n",
       "8   They have also been seen protecting swimmers f...     0.000     0.000   \n",
       "9   Dolphins also display culture, something long ...     0.000     0.000   \n",
       "10  In May 2005, a discovery in Australia found In...     0.000     0.000   \n",
       "11  They cover their snouts with sponges to protec...     0.133     0.000   \n",
       "12  Using sponges as mouth protection as well as o...     0.302     0.000   \n",
       "13  This knowledge is mostly transferred by mother...     0.000     0.000   \n",
       "\n",
       "    Neutral  Compound  \n",
       "0     0.752    0.5095  \n",
       "1     1.000    0.0000  \n",
       "2     1.000    0.0000  \n",
       "3     1.000    0.0000  \n",
       "4     0.854    0.0951  \n",
       "5     0.686   -0.0000  \n",
       "6     0.853   -0.2263  \n",
       "7     1.000    0.0000  \n",
       "8     1.000    0.0000  \n",
       "9     1.000    0.0000  \n",
       "10    1.000    0.0000  \n",
       "11    0.867    0.3818  \n",
       "12    0.698    0.6369  \n",
       "13    1.000    0.0000  "
      ]
     },
     "metadata": {},
     "output_type": "display_data"
    }
   ],
   "source": [
    "sentiments = SentimentIntensityAnalyzer()\n",
    "\n",
    "df = pd.DataFrame(tokenized_text, columns=['Sentence'])\n",
    "df['Positive'] = [sentiments.polarity_scores(i)['pos'] for i in df['Sentence']]\n",
    "df['Negative'] = [sentiments.polarity_scores(i)['neg'] for i in df['Sentence']]\n",
    "df['Neutral'] = [sentiments.polarity_scores(i)['neu'] for i in df['Sentence']]\n",
    "df['Compound'] = [sentiments.polarity_scores(i)['compound'] for i in df['Sentence']]\n",
    "display(df)\n",
    "\n"
   ]
  },
  {
   "cell_type": "markdown",
   "id": "eddf982e",
   "metadata": {},
   "source": [
    "- Se pueden observar las calificaciones de cada frase del texto."
   ]
  },
  {
   "cell_type": "code",
   "execution_count": 40,
   "id": "e11ed180",
   "metadata": {},
   "outputs": [
    {
     "data": {
      "text/html": [
       "<div>\n",
       "<style scoped>\n",
       "    .dataframe tbody tr th:only-of-type {\n",
       "        vertical-align: middle;\n",
       "    }\n",
       "\n",
       "    .dataframe tbody tr th {\n",
       "        vertical-align: top;\n",
       "    }\n",
       "\n",
       "    .dataframe thead th {\n",
       "        text-align: right;\n",
       "    }\n",
       "</style>\n",
       "<table border=\"1\" class=\"dataframe\">\n",
       "  <thead>\n",
       "    <tr style=\"text-align: right;\">\n",
       "      <th></th>\n",
       "      <th>Sentence</th>\n",
       "      <th>Sentiment</th>\n",
       "    </tr>\n",
       "  </thead>\n",
       "  <tbody>\n",
       "    <tr>\n",
       "      <th>0</th>\n",
       "      <td>Dolphins are often regarded as one of Earth's ...</td>\n",
       "      <td>Positive</td>\n",
       "    </tr>\n",
       "    <tr>\n",
       "      <th>1</th>\n",
       "      <td>They are social creatures,\\nliving in pods of ...</td>\n",
       "      <td>Neutral</td>\n",
       "    </tr>\n",
       "    <tr>\n",
       "      <th>2</th>\n",
       "      <td>In places with a high abundance of food, pods ...</td>\n",
       "      <td>Neutral</td>\n",
       "    </tr>\n",
       "    <tr>\n",
       "      <th>3</th>\n",
       "      <td>They communicate using a variety of clicks, \\n...</td>\n",
       "      <td>Neutral</td>\n",
       "    </tr>\n",
       "    <tr>\n",
       "      <th>4</th>\n",
       "      <td>Membership in pods is not rigid; interchange i...</td>\n",
       "      <td>Positive</td>\n",
       "    </tr>\n",
       "    <tr>\n",
       "      <th>5</th>\n",
       "      <td>Dolphins can, however, establish strong social...</td>\n",
       "      <td>Neutral</td>\n",
       "    </tr>\n",
       "    <tr>\n",
       "      <th>6</th>\n",
       "      <td>This altruism does not appear to be limited to...</td>\n",
       "      <td>Negative</td>\n",
       "    </tr>\n",
       "    <tr>\n",
       "      <th>7</th>\n",
       "      <td>The dolphin Moko in New Zealand has been obser...</td>\n",
       "      <td>Neutral</td>\n",
       "    </tr>\n",
       "    <tr>\n",
       "      <th>8</th>\n",
       "      <td>They have also been seen protecting swimmers f...</td>\n",
       "      <td>Neutral</td>\n",
       "    </tr>\n",
       "    <tr>\n",
       "      <th>9</th>\n",
       "      <td>Dolphins also display culture, something long ...</td>\n",
       "      <td>Neutral</td>\n",
       "    </tr>\n",
       "    <tr>\n",
       "      <th>10</th>\n",
       "      <td>In May 2005, a discovery in Australia found In...</td>\n",
       "      <td>Neutral</td>\n",
       "    </tr>\n",
       "    <tr>\n",
       "      <th>11</th>\n",
       "      <td>They cover their snouts with sponges to protec...</td>\n",
       "      <td>Positive</td>\n",
       "    </tr>\n",
       "    <tr>\n",
       "      <th>12</th>\n",
       "      <td>Using sponges as mouth protection as well as o...</td>\n",
       "      <td>Positive</td>\n",
       "    </tr>\n",
       "    <tr>\n",
       "      <th>13</th>\n",
       "      <td>This knowledge is mostly transferred by mother...</td>\n",
       "      <td>Neutral</td>\n",
       "    </tr>\n",
       "  </tbody>\n",
       "</table>\n",
       "</div>"
      ],
      "text/plain": [
       "                                             Sentence Sentiment\n",
       "0   Dolphins are often regarded as one of Earth's ...  Positive\n",
       "1   They are social creatures,\\nliving in pods of ...   Neutral\n",
       "2   In places with a high abundance of food, pods ...   Neutral\n",
       "3   They communicate using a variety of clicks, \\n...   Neutral\n",
       "4   Membership in pods is not rigid; interchange i...  Positive\n",
       "5   Dolphins can, however, establish strong social...   Neutral\n",
       "6   This altruism does not appear to be limited to...  Negative\n",
       "7   The dolphin Moko in New Zealand has been obser...   Neutral\n",
       "8   They have also been seen protecting swimmers f...   Neutral\n",
       "9   Dolphins also display culture, something long ...   Neutral\n",
       "10  In May 2005, a discovery in Australia found In...   Neutral\n",
       "11  They cover their snouts with sponges to protec...  Positive\n",
       "12  Using sponges as mouth protection as well as o...  Positive\n",
       "13  This knowledge is mostly transferred by mother...   Neutral"
      ]
     },
     "execution_count": 40,
     "metadata": {},
     "output_type": "execute_result"
    }
   ],
   "source": [
    "score = df['Compound'].values\n",
    "sentiment = []\n",
    "for i in score:\n",
    "    if i >= 0.05:\n",
    "        sentiment.append('Positive')\n",
    "    elif i <= -0.05:\n",
    "        sentiment.append('Negative')\n",
    "    else:\n",
    "        sentiment.append('Neutral')\n",
    "        \n",
    "df['Sentiment'] = sentiment\n",
    "df.filter(['Sentence','Sentiment'])\n"
   ]
  },
  {
   "cell_type": "code",
   "execution_count": 41,
   "id": "b6f375de",
   "metadata": {},
   "outputs": [
    {
     "data": {
      "image/png": "[encoded data removed]",
      "text/plain": [
       "<Figure size 432x288 with 1 Axes>"
      ]
     },
     "metadata": {
      "needs_background": "light"
     },
     "output_type": "display_data"
    }
   ],
   "source": [
    "df['Sentiment'].value_counts().plot(kind='bar')\n",
    "plt.suptitle('Análisis de sentimientos por frase')\n",
    "plt.xlabel('Etiquetas')\n",
    "plt.ylabel('Registros')\n",
    "plt.xticks(rotation=0)\n",
    "plt.show()\n",
    "plt.close()\n"
   ]
  },
  {
   "cell_type": "markdown",
   "id": "372f923e",
   "metadata": {},
   "source": [
    "Se puede observar que el texto fue etiquetado en algunas frases de manera incorrecta, como ser: \n",
    "\n",
    "- Frase N°5: \"La Membership in pods is not rigid; interchange is common\". Esta frase fue calificada como positiva, debiendo ser correctamente etiquetada como neutral. \n",
    "- Frase N°6: \"Dolphins can, however, establish strong social bonds; they will stay with injured or ill individuals, even helping them to breathe by bringing them to the surface if needed\". Esta frase fue calificada como neutral, debiendo ser correctamente etiquetada como positiva. \n",
    "- Frase N°7: \"This altruism does not appear to be limited to their own species\". Esta frase fue calificada como negativa, debiendo ser correctamente etiquetada como neutral. \n",
    "- Frase N°8: \"The dolphin Moko in New Zealand has been observed guiding a female Pygmy Sperm Whale together with her calf out of shallow water where they had stranded several times\". Esta frase fue calificada como neutral, debiendo ser correctamente etiquetada como positiva. \n",
    "- Frase N°9: \"They have also been seen protecting swimmers from sharks by swimming circles around the swimmers or charging the sharks to make them go away\". Esta frase fue calificada como neutral, debiendo ser correctamente etiquetada como positiva. \n",
    "- Frase N°10: \"Dolphins also display culture, something long believed to be unique to humans\". Esta frase fue calificada como neutral, debiendo ser correctamente etiquetada como positiva. \n",
    "- Frase N°11: \"In May 2005, a discovery in Australia found Indo-Pacific bottlenose dolphins (Tursiops aduncus) teaching their young to use tools\". Esta frase fue calificada como neutral, debiendo ser correctamente etiquetada como positiva. \n",
    "- Frase N°12: \"They cover their snouts with sponges to protect them while foraging (looking or searching for food or provisions)\". Esta frase fue calificada como positiva, debiendo ser correctamente etiquetada como neutral. \n",
    "- Las demás frases fueron correctamente etiquetadas. \n",
    "\n",
    "- Se corregirán las celdas para graficar los valores reales"
   ]
  },
  {
   "cell_type": "code",
   "execution_count": 42,
   "id": "ab7c803e",
   "metadata": {},
   "outputs": [],
   "source": [
    "df.at[4,'Sentiment'] = 'Neutral'\n",
    "df.at[5,'Sentiment'] = 'Positive'\n",
    "df.at[6,'Sentiment'] = 'Neutral'\n",
    "df.at[7,'Sentiment'] = 'Positive'\n",
    "df.at[8,'Sentiment'] = 'Positive'\n",
    "df.at[9,'Sentiment'] = 'Positive'\n",
    "df.at[10,'Sentiment'] = 'Positive'\n",
    "df.at[11,'Sentiment'] = 'Neutral'\n"
   ]
  },
  {
   "cell_type": "code",
   "execution_count": 43,
   "id": "7bfdcfef",
   "metadata": {},
   "outputs": [
    {
     "data": {
      "image/png": "[encoded data removed]",
      "text/plain": [
       "<Figure size 432x288 with 1 Axes>"
      ]
     },
     "metadata": {
      "needs_background": "light"
     },
     "output_type": "display_data"
    }
   ],
   "source": [
    "df['Sentiment'].value_counts().plot(kind='bar')\n",
    "plt.suptitle('Análisis de sentimientos por frase (*Valores correctos).')\n",
    "plt.xlabel('Etiquetas')\n",
    "plt.ylabel('Registros')\n",
    "plt.xticks(rotation=0)\n",
    "plt.show()\n",
    "plt.close()"
   ]
  },
  {
   "cell_type": "markdown",
   "id": "6f15cdf7",
   "metadata": {},
   "source": [
    "- Se realizará el cálculo de polaridad y subjetividad"
   ]
  },
  {
   "cell_type": "code",
   "execution_count": 44,
   "id": "286a08e5",
   "metadata": {},
   "outputs": [
    {
     "name": "stdout",
     "output_type": "stream",
     "text": [
      "Requirement already satisfied: textblob in c:\\users\\esteban\\anaconda\\lib\\site-packages (0.17.1)\n",
      "Requirement already satisfied: nltk>=3.1 in c:\\users\\esteban\\anaconda\\lib\\site-packages (from textblob) (3.7)\n",
      "Requirement already satisfied: joblib in c:\\users\\esteban\\anaconda\\lib\\site-packages (from nltk>=3.1->textblob) (1.1.0)\n",
      "Requirement already satisfied: tqdm in c:\\users\\esteban\\anaconda\\lib\\site-packages (from nltk>=3.1->textblob) (4.64.0)\n",
      "Requirement already satisfied: click in c:\\users\\esteban\\anaconda\\lib\\site-packages (from nltk>=3.1->textblob) (8.0.4)\n",
      "Requirement already satisfied: regex>=2021.8.3 in c:\\users\\esteban\\anaconda\\lib\\site-packages (from nltk>=3.1->textblob) (2022.3.15)\n",
      "Requirement already satisfied: colorama in c:\\users\\esteban\\anaconda\\lib\\site-packages (from click->nltk>=3.1->textblob) (0.4.4)\n"
     ]
    }
   ],
   "source": [
    "!pip install -U textblob"
   ]
  },
  {
   "cell_type": "code",
   "execution_count": 45,
   "id": "d9a6a6a3",
   "metadata": {},
   "outputs": [
    {
     "name": "stdout",
     "output_type": "stream",
     "text": [
      "Sentiment(polarity=0.11211826052735145, subjectivity=0.4600334513970878)\n"
     ]
    }
   ],
   "source": [
    "from textblob import TextBlob\n",
    "sent = TextBlob(text)\n",
    "print(sent.sentiment)\n"
   ]
  },
  {
   "cell_type": "markdown",
   "id": "cd5ef898",
   "metadata": {},
   "source": [
    "- La polaridad es una métrica utilizada para estimar el sentimiento general de un texto y varía de -1 a 1, donde -1 sería completamente negativo, 0 es neutral y 1 es completamente positivo. En este caso, está muy cerca de 0, por lo que el sentimiento general es neutral.\n",
    "\n",
    "- La subjetividad es una métrica que va de 0 a 1, donde 0 es muy objetivo y 1 es muy subjetivo. En este caso, cae casi en el medio. Por lo que se entiende, cuenta partes de la trama, que son objetivas.\n",
    "\n",
    "\n",
    "- Se realizará la clasificación del texto basado en aprendizaje automático. "
   ]
  },
  {
   "cell_type": "code",
   "execution_count": 46,
   "id": "984b23d4",
   "metadata": {},
   "outputs": [
    {
     "name": "stdout",
     "output_type": "stream",
     "text": [
      "<class 'pandas.core.frame.DataFrame'>\n",
      "RangeIndex: 14 entries, 0 to 13\n",
      "Data columns (total 6 columns):\n",
      " #   Column     Non-Null Count  Dtype  \n",
      "---  ------     --------------  -----  \n",
      " 0   Sentence   14 non-null     object \n",
      " 1   Positive   14 non-null     float64\n",
      " 2   Negative   14 non-null     float64\n",
      " 3   Neutral    14 non-null     float64\n",
      " 4   Compound   14 non-null     float64\n",
      " 5   Sentiment  14 non-null     object \n",
      "dtypes: float64(4), object(2)\n",
      "memory usage: 800.0+ bytes\n"
     ]
    }
   ],
   "source": [
    "df.info()"
   ]
  },
  {
   "cell_type": "code",
   "execution_count": 47,
   "id": "4c84e013",
   "metadata": {},
   "outputs": [
    {
     "data": {
      "text/plain": [
       "Positive    7\n",
       "Neutral     7\n",
       "Name: Sentiment, dtype: int64"
      ]
     },
     "execution_count": 47,
     "metadata": {},
     "output_type": "execute_result"
    }
   ],
   "source": [
    "df.Sentiment.value_counts()"
   ]
  },
  {
   "cell_type": "markdown",
   "id": "885c11ea",
   "metadata": {},
   "source": [
    "**Generación de features usando Bolsa de palabras (Bag of Words)**\n",
    "\n",
    "Para realizar la clasificación usando machine learning se debe convertir el texto en números o vectores de números.\n",
    "\n",
    "- El modelo de bolsa de palabras (BoW) es la forma más sencilla de extraer características del texto. BoW convierte el texto en la matriz de aparición de palabras dentro de un documento. Este modelo se refiere a si las palabras dadas ocurrieron o no en el documento.\n",
    "\n",
    "- Luego creará una matriz de documentos y palabras contando la ocurrencia de palabras en el documento dado. Esta matriz se conoce como Matriz de Término-Documento (DTM)."
   ]
  },
  {
   "cell_type": "code",
   "execution_count": 59,
   "id": "7b2acea6",
   "metadata": {},
   "outputs": [],
   "source": [
    "from sklearn.feature_extraction.text import CountVectorizer\n",
    "from nltk.tokenize import RegexpTokenizer\n",
    "#tokenizer to remove unwanted elements from out data like symbols and numbers\n",
    "token = RegexpTokenizer(r'[a-zA-Z0-9]+')\n",
    "cv = CountVectorizer(lowercase=True,stop_words='english',ngram_range = (1,1),tokenizer = token.tokenize)\n",
    "text_counts= cv.fit_transform(df['Sentence'])"
   ]
  },
  {
   "cell_type": "markdown",
   "id": "a6af03e9",
   "metadata": {},
   "source": [
    "**Split train and test set**\n",
    "\n",
    "- Para comprender el rendimiento del modelo, dividir el conjunto de datos en un conjunto de entrenamiento (train) y un conjunto de prueba (test) es una buena estrategia.\n",
    "\n",
    "- Se dividirá el conjunto de datos usando la función train_test_split()."
   ]
  },
  {
   "cell_type": "code",
   "execution_count": 60,
   "id": "83446d0d",
   "metadata": {},
   "outputs": [],
   "source": [
    "from sklearn.model_selection import train_test_split\n",
    "from sklearn import metrics\n",
    "\n",
    "X_train, X_test, y_train, y_test = train_test_split(\n",
    "    text_counts, df['Sentiment'], test_size=0.3, random_state=1)"
   ]
  },
  {
   "cell_type": "markdown",
   "id": "b97ea8e6",
   "metadata": {},
   "source": [
    "**Construcción y evaluación de modelos**"
   ]
  },
  {
   "cell_type": "code",
   "execution_count": 61,
   "id": "cea4709e",
   "metadata": {},
   "outputs": [],
   "source": [
    "from sklearn.naive_bayes import BernoulliNB, ComplementNB, MultinomialNB\n",
    "from sklearn.neighbors import KNeighborsClassifier\n",
    "from sklearn.tree import DecisionTreeClassifier\n",
    "from sklearn.ensemble import RandomForestClassifier, AdaBoostClassifier\n",
    "from sklearn.linear_model import LogisticRegression\n",
    "from sklearn.neural_network import MLPClassifier\n",
    "from sklearn.discriminant_analysis import QuadraticDiscriminantAnalysis"
   ]
  },
  {
   "cell_type": "code",
   "execution_count": 62,
   "id": "beb45e27",
   "metadata": {},
   "outputs": [],
   "source": [
    "classifiers = {\n",
    "    \"BernoulliNB\": BernoulliNB(),\n",
    "    \"ComplementNB\": ComplementNB(),\n",
    "    \"MultinomialNB\": MultinomialNB(),\n",
    "    \"KNeighborsClassifier\": KNeighborsClassifier(),\n",
    "    \"DecisionTreeClassifier\": DecisionTreeClassifier(),\n",
    "    \"RandomForestClassifier\": RandomForestClassifier(),\n",
    "    \"LogisticRegression\": LogisticRegression(),\n",
    "    \"MLPClassifier\": MLPClassifier(max_iter=1000),\n",
    "    \"AdaBoostClassifier\": AdaBoostClassifier(),\n",
    "}"
   ]
  },
  {
   "cell_type": "code",
   "execution_count": 63,
   "id": "d83788e6",
   "metadata": {},
   "outputs": [
    {
     "name": "stdout",
     "output_type": "stream",
     "text": [
      "BernoulliNB - Accuracy: 0.8\n",
      "ComplementNB - Accuracy: 0.6\n",
      "MultinomialNB - Accuracy: 0.6\n",
      "KNeighborsClassifier - Accuracy: 0.6\n",
      "DecisionTreeClassifier - Accuracy: 0.6\n",
      "RandomForestClassifier - Accuracy: 0.6\n",
      "LogisticRegression - Accuracy: 0.8\n",
      "MLPClassifier - Accuracy: 0.6\n",
      "AdaBoostClassifier - Accuracy: 0.6\n"
     ]
    }
   ],
   "source": [
    "for name, sklearn_classifier in classifiers.items():\n",
    "    clf = sklearn_classifier.fit(X_train, y_train)\n",
    "    predicted= clf.predict(X_test)\n",
    "    print(name, \"- Accuracy:\",metrics.accuracy_score(y_test, predicted))\n",
    "    \n"
   ]
  },
  {
   "cell_type": "markdown",
   "id": "79d2ebf9",
   "metadata": {},
   "source": [
    "- Se puede observar que en algunos modelos se obtuvo un accuracy aceptable (0.8) y en otros la tasa de clasificación fue del 0.6, la cual no se considera una buena precisión. \n",
    "\n",
    "\n",
    "\n",
    "\n",
    "\n",
    "**Feature Generation using TF-IDF\\**\n",
    "\n",
    "- TF-IDF (frecuencia de término-frecuencia de documento inversa) normaliza la matriz de términos del documento. Es el producto de TF y IDF. En Term Frequency (TF), solo cuenta la cantidad de palabras que se produjeron en cada documento. El problema principal con esta frecuencia de término es que le dará más peso a los documentos más largos. La frecuencia de término es básicamente el resultado del modelo BoW.\n",
    "\n",
    "- IDF (frecuencia inversa del documento) mide la cantidad de información que proporciona una palabra determinada en todo el documento. IDF es la relación inversa escalada logarítmicamente del número de documentos que contienen la palabra y el número total de documentos."
   ]
  },
  {
   "cell_type": "code",
   "execution_count": 64,
   "id": "5498a6c0",
   "metadata": {},
   "outputs": [],
   "source": [
    "from sklearn.feature_extraction.text import TfidfVectorizer\n",
    "tf=TfidfVectorizer()\n",
    "text_tf= tf.fit_transform(df['Sentence'])"
   ]
  },
  {
   "cell_type": "markdown",
   "id": "925d0c7e",
   "metadata": {},
   "source": [
    "**Split train and test set (TF-IDF)**"
   ]
  },
  {
   "cell_type": "code",
   "execution_count": 65,
   "id": "d77b2bb8",
   "metadata": {},
   "outputs": [],
   "source": [
    "from sklearn.model_selection import train_test_split\n",
    "X_train, X_test, y_train, y_test = train_test_split(\n",
    "    text_tf, df['Sentiment'], test_size=0.3, random_state=1)"
   ]
  },
  {
   "cell_type": "markdown",
   "id": "72886aac",
   "metadata": {},
   "source": [
    "**Construcción y evaluación de modelos (TF-IDF)**\n",
    "- fuente [https://realpython.com/python-nltk-sentiment-analysis/]"
   ]
  },
  {
   "cell_type": "code",
   "execution_count": 66,
   "id": "b721a050",
   "metadata": {},
   "outputs": [],
   "source": [
    "classifiers_tf = {\n",
    "    \"BernoulliNB\": BernoulliNB(),\n",
    "    \"ComplementNB\": ComplementNB(),\n",
    "    \"MultinomialNB\": MultinomialNB(),\n",
    "    \"KNeighborsClassifier\": KNeighborsClassifier(),\n",
    "    \"DecisionTreeClassifier\": DecisionTreeClassifier(),\n",
    "    \"RandomForestClassifier\": RandomForestClassifier(),\n",
    "    \"LogisticRegression\": LogisticRegression(),\n",
    "    \"MLPClassifier\": MLPClassifier(max_iter=1000),\n",
    "    \"AdaBoostClassifier\": AdaBoostClassifier(),\n",
    "}"
   ]
  },
  {
   "cell_type": "code",
   "execution_count": 67,
   "id": "79983ae8",
   "metadata": {
    "scrolled": true
   },
   "outputs": [
    {
     "name": "stdout",
     "output_type": "stream",
     "text": [
      "BernoulliNB - Accuracy: 0.6\n",
      "ComplementNB - Accuracy: 0.6\n",
      "MultinomialNB - Accuracy: 0.6\n",
      "KNeighborsClassifier - Accuracy: 0.4\n",
      "DecisionTreeClassifier - Accuracy: 0.6\n",
      "RandomForestClassifier - Accuracy: 0.4\n",
      "LogisticRegression - Accuracy: 0.4\n",
      "MLPClassifier - Accuracy: 0.4\n",
      "AdaBoostClassifier - Accuracy: 0.6\n"
     ]
    }
   ],
   "source": [
    "for name, sklearn_classifier in classifiers_tf.items():\n",
    "    clf = sklearn_classifier.fit(X_train, y_train)\n",
    "    predicted= clf.predict(X_test)\n",
    "    print(name, \"- Accuracy:\",metrics.accuracy_score(y_test, predicted))\n"
   ]
  },
  {
   "cell_type": "code",
   "execution_count": 69,
   "id": "1f05e346",
   "metadata": {
    "code_folding": []
   },
   "outputs": [
    {
     "data": {
      "text/html": [
       "<div>\n",
       "<style scoped>\n",
       "    .dataframe tbody tr th:only-of-type {\n",
       "        vertical-align: middle;\n",
       "    }\n",
       "\n",
       "    .dataframe tbody tr th {\n",
       "        vertical-align: top;\n",
       "    }\n",
       "\n",
       "    .dataframe thead th {\n",
       "        text-align: right;\n",
       "    }\n",
       "</style>\n",
       "<table border=\"1\" class=\"dataframe\">\n",
       "  <thead>\n",
       "    <tr style=\"text-align: right;\">\n",
       "      <th></th>\n",
       "      <th>Modelo</th>\n",
       "      <th>Acurracy</th>\n",
       "      <th>Acurracy con TF-IDF</th>\n",
       "    </tr>\n",
       "  </thead>\n",
       "  <tbody>\n",
       "    <tr>\n",
       "      <th>0</th>\n",
       "      <td>BernoulliNB</td>\n",
       "      <td>0,8</td>\n",
       "      <td>0,6</td>\n",
       "    </tr>\n",
       "    <tr>\n",
       "      <th>1</th>\n",
       "      <td>ComplementNB</td>\n",
       "      <td>0,6</td>\n",
       "      <td>0,6</td>\n",
       "    </tr>\n",
       "    <tr>\n",
       "      <th>2</th>\n",
       "      <td>MultinomialNB</td>\n",
       "      <td>0,6</td>\n",
       "      <td>0,6</td>\n",
       "    </tr>\n",
       "    <tr>\n",
       "      <th>3</th>\n",
       "      <td>KNeighborsClassifier</td>\n",
       "      <td>0,6</td>\n",
       "      <td>0,4</td>\n",
       "    </tr>\n",
       "    <tr>\n",
       "      <th>4</th>\n",
       "      <td>DecisionTreeClassifier</td>\n",
       "      <td>0,6</td>\n",
       "      <td>0,6</td>\n",
       "    </tr>\n",
       "    <tr>\n",
       "      <th>5</th>\n",
       "      <td>RandomForestClassifier</td>\n",
       "      <td>0,6</td>\n",
       "      <td>0,4</td>\n",
       "    </tr>\n",
       "    <tr>\n",
       "      <th>6</th>\n",
       "      <td>LogisticRegression</td>\n",
       "      <td>0,8</td>\n",
       "      <td>0,4</td>\n",
       "    </tr>\n",
       "    <tr>\n",
       "      <th>7</th>\n",
       "      <td>MLPClassifier</td>\n",
       "      <td>0,6</td>\n",
       "      <td>0,4</td>\n",
       "    </tr>\n",
       "    <tr>\n",
       "      <th>8</th>\n",
       "      <td>AdaBoostClassifier</td>\n",
       "      <td>0,6</td>\n",
       "      <td>0,6</td>\n",
       "    </tr>\n",
       "  </tbody>\n",
       "</table>\n",
       "</div>"
      ],
      "text/plain": [
       "                   Modelo Acurracy Acurracy con TF-IDF\n",
       "0             BernoulliNB      0,8                 0,6\n",
       "1            ComplementNB      0,6                 0,6\n",
       "2           MultinomialNB      0,6                 0,6\n",
       "3    KNeighborsClassifier      0,6                 0,4\n",
       "4  DecisionTreeClassifier      0,6                 0,6\n",
       "5  RandomForestClassifier      0,6                 0,4\n",
       "6      LogisticRegression      0,8                 0,4\n",
       "7           MLPClassifier      0,6                 0,4\n",
       "8      AdaBoostClassifier      0,6                 0,6"
      ]
     },
     "execution_count": 69,
     "metadata": {},
     "output_type": "execute_result"
    }
   ],
   "source": [
    "metrics = pd.DataFrame(data=[['BernoulliNB', '0,8', '0,6'],\n",
    "                            ['ComplementNB', '0,6', '0,6'],\n",
    "                            ['MultinomialNB', '0,6', '0,6'],\n",
    "                            ['KNeighborsClassifier', '0,6', '0,4'],\n",
    "                            ['DecisionTreeClassifier', '0,6', '0,6'],\n",
    "                            ['RandomForestClassifier', '0,6', '0,4'],\n",
    "                            ['LogisticRegression', '0,8', '0,4'],\n",
    "                            ['MLPClassifier', '0,6', '0,4'],\n",
    "                            ['AdaBoostClassifier', '0,6', '0,6']],\n",
    "                        columns = ['Modelo','Acurracy', 'Acurracy con TF-IDF'])\n",
    "metrics"
   ]
  },
  {
   "cell_type": "markdown",
   "id": "f74e457a",
   "metadata": {},
   "source": [
    "- Se puede observar que el accuracy con TF-IDF en los modelos: \"BernoulliNB\", \"KNeighborsClassifier\", \"RandomForestClassifier\t\", \"LogisticRegression\" y \"MLPClassifier\", disminuyó. En el resto de los modelos se mantuvo igual."
   ]
  }
 ],
 "metadata": {
  "hide_input": false,
  "kernelspec": {
   "display_name": "Python 3 (ipykernel)",
   "language": "python",
   "name": "python3"
  },
  "language_info": {
   "codemirror_mode": {
    "name": "ipython",
    "version": 3
   },
   "file_extension": ".py",
   "mimetype": "text/x-python",
   "name": "python",
   "nbconvert_exporter": "python",
   "pygments_lexer": "ipython3",
   "version": "3.9.12"
  },
  "nbTranslate": {
   "displayLangs": [
    "*"
   ],
   "hotkey": "alt-t",
   "langInMainMenu": true,
   "sourceLang": "en",
   "targetLang": "fr",
   "useGoogleTranslate": true
  },
  "toc": {
   "base_numbering": 1,
   "nav_menu": {},
   "number_sections": true,
   "sideBar": true,
   "skip_h1_title": false,
   "title_cell": "Table of Contents",
   "title_sidebar": "Contents",
   "toc_cell": false,
   "toc_position": {},
   "toc_section_display": true,
   "toc_window_display": false
  },
  "varInspector": {
   "cols": {
    "lenName": 16,
    "lenType": 16,
    "lenVar": 40
   },
   "kernels_config": {
    "python": {
     "delete_cmd_postfix": "",
     "delete_cmd_prefix": "del ",
     "library": "var_list.py",
     "varRefreshCmd": "print(var_dic_list())"
    },
    "r": {
     "delete_cmd_postfix": ") ",
     "delete_cmd_prefix": "rm(",
     "library": "var_list.r",
     "varRefreshCmd": "cat(var_dic_list()) "
    }
   },
   "types_to_exclude": [
    "module",
    "function",
    "builtin_function_or_method",
    "instance",
    "_Feature"
   ],
   "window_display": false
  }
 },
 "nbformat": 4,
 "nbformat_minor": 5
}
